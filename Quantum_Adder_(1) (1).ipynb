{
  "cells": [
    {
      "cell_type": "code",
      "execution_count": null,
      "metadata": {
        "colab": {
          "base_uri": "https://localhost:8080/"
        },
        "id": "Yx6wnftgLYV3",
        "outputId": "e6f84fed-be1b-4086-bb4e-cd982f76472f"
      },
      "outputs": [
        {
          "name": "stdout",
          "output_type": "stream",
          "text": [
            "Collecting qiskit\n",
            "  Downloading qiskit-0.43.2.tar.gz (9.1 kB)\n",
            "  Installing build dependencies ... \u001b[?25l\u001b[?25hdone\n",
            "  Getting requirements to build wheel ... \u001b[?25l\u001b[?25hdone\n",
            "  Installing backend dependencies ... \u001b[?25l\u001b[?25hdone\n",
            "  Preparing metadata (pyproject.toml) ... \u001b[?25l\u001b[?25hdone\n",
            "Collecting qiskit-terra==0.24.1 (from qiskit)\n",
            "  Downloading qiskit_terra-0.24.1-cp310-cp310-manylinux_2_17_x86_64.manylinux2014_x86_64.whl (5.9 MB)\n",
            "\u001b[2K     \u001b[90m━━━━━━━━━━━━━━━━━━━━━━━━━━━━━━━━━━━━━━━━\u001b[0m \u001b[32m5.9/5.9 MB\u001b[0m \u001b[31m72.3 MB/s\u001b[0m eta \u001b[36m0:00:00\u001b[0m\n",
            "\u001b[?25hCollecting qiskit-aer==0.12.1 (from qiskit)\n",
            "  Downloading qiskit_aer-0.12.1-cp310-cp310-manylinux_2_17_x86_64.manylinux2014_x86_64.whl (12.8 MB)\n",
            "\u001b[2K     \u001b[90m━━━━━━━━━━━━━━━━━━━━━━━━━━━━━━━━━━━━━━━━\u001b[0m \u001b[32m12.8/12.8 MB\u001b[0m \u001b[31m77.3 MB/s\u001b[0m eta \u001b[36m0:00:00\u001b[0m\n",
            "\u001b[?25hCollecting qiskit-ibmq-provider==0.20.2 (from qiskit)\n",
            "  Downloading qiskit_ibmq_provider-0.20.2-py3-none-any.whl (241 kB)\n",
            "\u001b[2K     \u001b[90m━━━━━━━━━━━━━━━━━━━━━━━━━━━━━━━━━━━━━━\u001b[0m \u001b[32m241.5/241.5 kB\u001b[0m \u001b[31m24.2 MB/s\u001b[0m eta \u001b[36m0:00:00\u001b[0m\n",
            "\u001b[?25hRequirement already satisfied: numpy>=1.16.3 in /usr/local/lib/python3.10/dist-packages (from qiskit-aer==0.12.1->qiskit) (1.22.4)\n",
            "Requirement already satisfied: scipy>=1.0 in /usr/local/lib/python3.10/dist-packages (from qiskit-aer==0.12.1->qiskit) (1.10.1)\n",
            "Requirement already satisfied: requests>=2.19 in /usr/local/lib/python3.10/dist-packages (from qiskit-ibmq-provider==0.20.2->qiskit) (2.27.1)\n",
            "Collecting requests-ntlm<=1.1.0 (from qiskit-ibmq-provider==0.20.2->qiskit)\n",
            "  Downloading requests_ntlm-1.1.0-py2.py3-none-any.whl (5.7 kB)\n",
            "Requirement already satisfied: urllib3>=1.21.1 in /usr/local/lib/python3.10/dist-packages (from qiskit-ibmq-provider==0.20.2->qiskit) (1.26.16)\n",
            "Requirement already satisfied: python-dateutil>=2.8.0 in /usr/local/lib/python3.10/dist-packages (from qiskit-ibmq-provider==0.20.2->qiskit) (2.8.2)\n",
            "Requirement already satisfied: websocket-client>=1.5.1 in /usr/local/lib/python3.10/dist-packages (from qiskit-ibmq-provider==0.20.2->qiskit) (1.6.1)\n",
            "Collecting websockets>=10.0 (from qiskit-ibmq-provider==0.20.2->qiskit)\n",
            "  Downloading websockets-11.0.3-cp310-cp310-manylinux_2_5_x86_64.manylinux1_x86_64.manylinux_2_17_x86_64.manylinux2014_x86_64.whl (129 kB)\n",
            "\u001b[2K     \u001b[90m━━━━━━━━━━━━━━━━━━━━━━━━━━━━━━━━━━━━━━\u001b[0m \u001b[32m129.9/129.9 kB\u001b[0m \u001b[31m14.6 MB/s\u001b[0m eta \u001b[36m0:00:00\u001b[0m\n",
            "\u001b[?25hCollecting rustworkx>=0.12.0 (from qiskit-terra==0.24.1->qiskit)\n",
            "  Downloading rustworkx-0.13.0-cp310-cp310-manylinux_2_17_x86_64.manylinux2014_x86_64.whl (1.9 MB)\n",
            "\u001b[2K     \u001b[90m━━━━━━━━━━━━━━━━━━━━━━━━━━━━━━━━━━━━━━━━\u001b[0m \u001b[32m1.9/1.9 MB\u001b[0m \u001b[31m75.9 MB/s\u001b[0m eta \u001b[36m0:00:00\u001b[0m\n",
            "\u001b[?25hCollecting ply>=3.10 (from qiskit-terra==0.24.1->qiskit)\n",
            "  Downloading ply-3.11-py2.py3-none-any.whl (49 kB)\n",
            "\u001b[2K     \u001b[90m━━━━━━━━━━━━━━━━━━━━━━━━━━━━━━━━━━━━━━━━\u001b[0m \u001b[32m49.6/49.6 kB\u001b[0m \u001b[31m5.1 MB/s\u001b[0m eta \u001b[36m0:00:00\u001b[0m\n",
            "\u001b[?25hRequirement already satisfied: psutil>=5 in /usr/local/lib/python3.10/dist-packages (from qiskit-terra==0.24.1->qiskit) (5.9.5)\n",
            "Requirement already satisfied: sympy>=1.3 in /usr/local/lib/python3.10/dist-packages (from qiskit-terra==0.24.1->qiskit) (1.11.1)\n",
            "Collecting dill>=0.3 (from qiskit-terra==0.24.1->qiskit)\n",
            "  Downloading dill-0.3.6-py3-none-any.whl (110 kB)\n",
            "\u001b[2K     \u001b[90m━━━━━━━━━━━━━━━━━━━━━━━━━━━━━━━━━━━━━━\u001b[0m \u001b[32m110.5/110.5 kB\u001b[0m \u001b[31m11.5 MB/s\u001b[0m eta \u001b[36m0:00:00\u001b[0m\n",
            "\u001b[?25hCollecting stevedore>=3.0.0 (from qiskit-terra==0.24.1->qiskit)\n",
            "  Downloading stevedore-5.1.0-py3-none-any.whl (49 kB)\n",
            "\u001b[2K     \u001b[90m━━━━━━━━━━━━━━━━━━━━━━━━━━━━━━━━━━━━━━━━\u001b[0m \u001b[32m49.6/49.6 kB\u001b[0m \u001b[31m5.6 MB/s\u001b[0m eta \u001b[36m0:00:00\u001b[0m\n",
            "\u001b[?25hCollecting symengine<0.10,>=0.9 (from qiskit-terra==0.24.1->qiskit)\n",
            "  Downloading symengine-0.9.2-cp310-cp310-manylinux2010_x86_64.whl (37.5 MB)\n",
            "\u001b[2K     \u001b[90m━━━━━━━━━━━━━━━━━━━━━━━━━━━━━━━━━━━━━━━━\u001b[0m \u001b[32m37.5/37.5 MB\u001b[0m \u001b[31m16.8 MB/s\u001b[0m eta \u001b[36m0:00:00\u001b[0m\n",
            "\u001b[?25hRequirement already satisfied: six>=1.5 in /usr/local/lib/python3.10/dist-packages (from python-dateutil>=2.8.0->qiskit-ibmq-provider==0.20.2->qiskit) (1.16.0)\n",
            "Requirement already satisfied: certifi>=2017.4.17 in /usr/local/lib/python3.10/dist-packages (from requests>=2.19->qiskit-ibmq-provider==0.20.2->qiskit) (2023.5.7)\n",
            "Requirement already satisfied: charset-normalizer~=2.0.0 in /usr/local/lib/python3.10/dist-packages (from requests>=2.19->qiskit-ibmq-provider==0.20.2->qiskit) (2.0.12)\n",
            "Requirement already satisfied: idna<4,>=2.5 in /usr/local/lib/python3.10/dist-packages (from requests>=2.19->qiskit-ibmq-provider==0.20.2->qiskit) (3.4)\n",
            "Collecting ntlm-auth>=1.0.2 (from requests-ntlm<=1.1.0->qiskit-ibmq-provider==0.20.2->qiskit)\n",
            "  Downloading ntlm_auth-1.5.0-py2.py3-none-any.whl (29 kB)\n",
            "Collecting cryptography>=1.3 (from requests-ntlm<=1.1.0->qiskit-ibmq-provider==0.20.2->qiskit)\n",
            "  Downloading cryptography-41.0.2-cp37-abi3-manylinux_2_28_x86_64.whl (4.3 MB)\n",
            "\u001b[2K     \u001b[90m━━━━━━━━━━━━━━━━━━━━━━━━━━━━━━━━━━━━━━━━\u001b[0m \u001b[32m4.3/4.3 MB\u001b[0m \u001b[31m67.8 MB/s\u001b[0m eta \u001b[36m0:00:00\u001b[0m\n",
            "\u001b[?25hCollecting pbr!=2.1.0,>=2.0.0 (from stevedore>=3.0.0->qiskit-terra==0.24.1->qiskit)\n",
            "  Downloading pbr-5.11.1-py2.py3-none-any.whl (112 kB)\n",
            "\u001b[2K     \u001b[90m━━━━━━━━━━━━━━━━━━━━━━━━━━━━━━━━━━━━━━\u001b[0m \u001b[32m112.7/112.7 kB\u001b[0m \u001b[31m10.8 MB/s\u001b[0m eta \u001b[36m0:00:00\u001b[0m\n",
            "\u001b[?25hRequirement already satisfied: mpmath>=0.19 in /usr/local/lib/python3.10/dist-packages (from sympy>=1.3->qiskit-terra==0.24.1->qiskit) (1.3.0)\n",
            "Requirement already satisfied: cffi>=1.12 in /usr/local/lib/python3.10/dist-packages (from cryptography>=1.3->requests-ntlm<=1.1.0->qiskit-ibmq-provider==0.20.2->qiskit) (1.15.1)\n",
            "Requirement already satisfied: pycparser in /usr/local/lib/python3.10/dist-packages (from cffi>=1.12->cryptography>=1.3->requests-ntlm<=1.1.0->qiskit-ibmq-provider==0.20.2->qiskit) (2.21)\n",
            "Building wheels for collected packages: qiskit\n",
            "  Building wheel for qiskit (pyproject.toml) ... \u001b[?25l\u001b[?25hdone\n",
            "  Created wheel for qiskit: filename=qiskit-0.43.2-py3-none-any.whl size=7640 sha256=c95bf821fb1dadce2449854cfb36bb240d64508ff5e5984ca05c58dd05a81858\n",
            "  Stored in directory: /root/.cache/pip/wheels/d4/ad/4f/f54eb8743e54c5bab69837b842cf56a8a87ac7c57a2abf85ad\n",
            "Successfully built qiskit\n",
            "Installing collected packages: ply, websockets, symengine, rustworkx, pbr, ntlm-auth, dill, stevedore, cryptography, requests-ntlm, qiskit-terra, qiskit-ibmq-provider, qiskit-aer, qiskit\n",
            "Successfully installed cryptography-41.0.2 dill-0.3.6 ntlm-auth-1.5.0 pbr-5.11.1 ply-3.11 qiskit-0.43.2 qiskit-aer-0.12.1 qiskit-ibmq-provider-0.20.2 qiskit-terra-0.24.1 requests-ntlm-1.1.0 rustworkx-0.13.0 stevedore-5.1.0 symengine-0.9.2 websockets-11.0.3\n"
          ]
        }
      ],
      "source": [
        "!pip install qiskit"
      ]
    },
    {
      "cell_type": "code",
      "execution_count": null,
      "metadata": {
        "id": "oAqEMaQ8LfmO"
      },
      "outputs": [],
      "source": [
        "from qiskit import *\n"
      ]
    },
    {
      "cell_type": "code",
      "execution_count": null,
      "metadata": {
        "id": "yeiD_LsZLsIE"
      },
      "outputs": [],
      "source": [
        "#defining a function which simulates a single qubit full adder\n",
        "#for a full adder s= a xor b xor cin and cout=a.b xor (a xor b).cin\n",
        "def full_Adder(cin,a,b,cout,circuit):\n",
        "  circuit.ccx(a,b,cout)#cout=cout xor a.b, initially cout=0 so after this cout=a.b\n",
        "  circuit.cx(a,b)#b=a xor b\n",
        "  circuit.ccx(cin,b,cout)#cout=cout xor cin.b which implies cout= a.b xor cin.(a xor b) which is equivalent to the carry generated\n",
        "  circuit.cx(cin,b)#b=b xor cin which implies b= a xor b xor cin which is eual to the sum\n",
        "  circuit.barrier()\n",
        "\n",
        "\n",
        "\n",
        "\n",
        "\n",
        "\n",
        "\n",
        "\n",
        "\n",
        "\n",
        "\n",
        "\n",
        "\n",
        "\n",
        "\n",
        "\n",
        "\n",
        "\n"
      ]
    },
    {
      "cell_type": "code",
      "execution_count": null,
      "metadata": {
        "colab": {
          "base_uri": "https://localhost:8080/",
          "height": 464
        },
        "id": "ZmvF2u85M_3T",
        "outputId": "05e0f304-4d58-4141-82d4-c7f3c38dfe6e"
      },
      "outputs": [
        {
          "data": {
            "text/html": [
              "<pre style=\"word-wrap: normal;white-space: pre;background: #fff0;line-height: 1.1;font-family: &quot;Courier New&quot;,Courier,monospace\">     \n",
              "a_0: \n",
              "     \n",
              "a_1: \n",
              "     \n",
              "a_2: \n",
              "     \n",
              "a_3: \n",
              "     \n",
              "b_0: \n",
              "     \n",
              "b_1: \n",
              "     \n",
              "b_2: \n",
              "     \n",
              "b_3: \n",
              "     \n",
              "c_0: \n",
              "     \n",
              "c_1: \n",
              "     \n",
              "c_2: \n",
              "     \n",
              "c_3: \n",
              "     \n",
              "c_4: \n",
              "     \n",
              "s: 5/\n",
              "     </pre>"
            ],
            "text/plain": [
              "     \n",
              "a_0: \n",
              "     \n",
              "a_1: \n",
              "     \n",
              "a_2: \n",
              "     \n",
              "a_3: \n",
              "     \n",
              "b_0: \n",
              "     \n",
              "b_1: \n",
              "     \n",
              "b_2: \n",
              "     \n",
              "b_3: \n",
              "     \n",
              "c_0: \n",
              "     \n",
              "c_1: \n",
              "     \n",
              "c_2: \n",
              "     \n",
              "c_3: \n",
              "     \n",
              "c_4: \n",
              "     \n",
              "s: 5/\n",
              "     "
            ]
          },
          "execution_count": 4,
          "metadata": {},
          "output_type": "execute_result"
        }
      ],
      "source": [
        "#Defining the quantum registers and circuit\n",
        "a=QuantumRegister(4,'a')#It represents the register for first number\n",
        "b=QuantumRegister(4,'b')#It represents the register for second number\n",
        "c=QuantumRegister(5,'c')#It is the register to store the carry from each full adder\n",
        "\n",
        "s=ClassicalRegister(5,'s')#It is used to measure the quantum qubits\n",
        "circuit=QuantumCircuit(a,b,c,s)#Defining the circuit and it's elements\n",
        "circuit.draw()"
      ]
    },
    {
      "cell_type": "markdown",
      "metadata": {
        "id": "quDHsqGOEv74"
      },
      "source": [
        "CASE 1-> a=|0010> b=|1011>"
      ]
    },
    {
      "cell_type": "code",
      "execution_count": null,
      "metadata": {
        "colab": {
          "base_uri": "https://localhost:8080/"
        },
        "id": "2sCJVrztNhi-",
        "outputId": "96c651c3-3841-4506-b83b-eb7749a3a5ea"
      },
      "outputs": [
        {
          "data": {
            "text/plain": [
              "<qiskit.circuit.instructionset.InstructionSet at 0x7be8220170a0>"
            ]
          },
          "execution_count": 5,
          "metadata": {},
          "output_type": "execute_result"
        }
      ],
      "source": [
        "#definig the numbers in the two quantum registers\n",
        "circuit.x(a[1])#applying not gate to a[1]\n",
        "circuit.x(b[0])#applying not gate to b[0]\n",
        "circuit.x(b[1])#applying not gate to b[1]\n",
        "circuit.x(b[3])#applying not gate to b[3]\n"
      ]
    },
    {
      "cell_type": "code",
      "execution_count": null,
      "metadata": {
        "colab": {
          "base_uri": "https://localhost:8080/",
          "height": 464
        },
        "id": "lHHttpHnNsDH",
        "outputId": "3002ceb4-32c4-4812-e7fb-a4058962955a"
      },
      "outputs": [
        {
          "data": {
            "text/html": [
              "<pre style=\"word-wrap: normal;white-space: pre;background: #fff0;line-height: 1.1;font-family: &quot;Courier New&quot;,Courier,monospace\">          \n",
              "a_0: ─────\n",
              "     ┌───┐\n",
              "a_1: ┤ X ├\n",
              "     └───┘\n",
              "a_2: ─────\n",
              "          \n",
              "a_3: ─────\n",
              "     ┌───┐\n",
              "b_0: ┤ X ├\n",
              "     ├───┤\n",
              "b_1: ┤ X ├\n",
              "     └───┘\n",
              "b_2: ─────\n",
              "     ┌───┐\n",
              "b_3: ┤ X ├\n",
              "     └───┘\n",
              "c_0: ─────\n",
              "          \n",
              "c_1: ─────\n",
              "          \n",
              "c_2: ─────\n",
              "          \n",
              "c_3: ─────\n",
              "          \n",
              "c_4: ─────\n",
              "          \n",
              "s: 5/═════\n",
              "          </pre>"
            ],
            "text/plain": [
              "          \n",
              "a_0: ─────\n",
              "     ┌───┐\n",
              "a_1: ┤ X ├\n",
              "     └───┘\n",
              "a_2: ─────\n",
              "          \n",
              "a_3: ─────\n",
              "     ┌───┐\n",
              "b_0: ┤ X ├\n",
              "     ├───┤\n",
              "b_1: ┤ X ├\n",
              "     └───┘\n",
              "b_2: ─────\n",
              "     ┌───┐\n",
              "b_3: ┤ X ├\n",
              "     └───┘\n",
              "c_0: ─────\n",
              "          \n",
              "c_1: ─────\n",
              "          \n",
              "c_2: ─────\n",
              "          \n",
              "c_3: ─────\n",
              "          \n",
              "c_4: ─────\n",
              "          \n",
              "s: 5/═════\n",
              "          "
            ]
          },
          "execution_count": 6,
          "metadata": {},
          "output_type": "execute_result"
        }
      ],
      "source": [
        "circuit.draw()"
      ]
    },
    {
      "cell_type": "code",
      "execution_count": null,
      "metadata": {
        "colab": {
          "base_uri": "https://localhost:8080/",
          "height": 910
        },
        "id": "o4cAyxd-Nwes",
        "outputId": "e829cb1a-6e1e-4d9d-f556-5accf689553f"
      },
      "outputs": [
        {
          "data": {
            "text/html": [
              "<pre style=\"word-wrap: normal;white-space: pre;background: #fff0;line-height: 1.1;font-family: &quot;Courier New&quot;,Courier,monospace\">                               ░                      ░                      ░ »\n",
              "a_0: ───────■────■─────────────░──────────────────────░──────────────────────░─»\n",
              "     ┌───┐  │    │             ░                      ░                      ░ »\n",
              "a_1: ┤ X ├──┼────┼─────────────░───■────■─────────────░──────────────────────░─»\n",
              "     └───┘  │    │             ░   │    │             ░                      ░ »\n",
              "a_2: ───────┼────┼─────────────░───┼────┼─────────────░───■────■─────────────░─»\n",
              "            │    │             ░   │    │             ░   │    │             ░ »\n",
              "a_3: ───────┼────┼─────────────░───┼────┼─────────────░───┼────┼─────────────░─»\n",
              "     ┌───┐  │  ┌─┴─┐     ┌───┐ ░   │    │             ░   │    │             ░ »\n",
              "b_0: ┤ X ├──■──┤ X ├──■──┤ X ├─░───┼────┼─────────────░───┼────┼─────────────░─»\n",
              "     ├───┤  │  └───┘  │  └─┬─┘ ░   │  ┌─┴─┐     ┌───┐ ░   │    │             ░ »\n",
              "b_1: ┤ X ├──┼─────────┼────┼───░───■──┤ X ├──■──┤ X ├─░───┼────┼─────────────░─»\n",
              "     └───┘  │         │    │   ░   │  └───┘  │  └─┬─┘ ░   │  ┌─┴─┐     ┌───┐ ░ »\n",
              "b_2: ───────┼─────────┼────┼───░───┼─────────┼────┼───░───■──┤ X ├──■──┤ X ├─░─»\n",
              "     ┌───┐  │         │    │   ░   │         │    │   ░   │  └───┘  │  └─┬─┘ ░ »\n",
              "b_3: ┤ X ├──┼─────────┼────┼───░───┼─────────┼────┼───░───┼─────────┼────┼───░─»\n",
              "     └───┘  │         │    │   ░   │         │    │   ░   │         │    │   ░ »\n",
              "c_0: ───────┼─────────■────■───░───┼─────────┼────┼───░───┼─────────┼────┼───░─»\n",
              "          ┌─┴─┐     ┌─┴─┐      ░   │         │    │   ░   │         │    │   ░ »\n",
              "c_1: ─────┤ X ├─────┤ X ├──────░───┼─────────■────■───░───┼─────────┼────┼───░─»\n",
              "          └───┘     └───┘      ░ ┌─┴─┐     ┌─┴─┐      ░   │         │    │   ░ »\n",
              "c_2: ──────────────────────────░─┤ X ├─────┤ X ├──────░───┼─────────■────■───░─»\n",
              "                               ░ └───┘     └───┘      ░ ┌─┴─┐     ┌─┴─┐      ░ »\n",
              "c_3: ──────────────────────────░──────────────────────░─┤ X ├─────┤ X ├──────░─»\n",
              "                               ░                      ░ └───┘     └───┘      ░ »\n",
              "c_4: ──────────────────────────░──────────────────────░──────────────────────░─»\n",
              "                               ░                      ░                      ░ »\n",
              "s: 5/══════════════════════════════════════════════════════════════════════════»\n",
              "                                                                               »\n",
              "«                          ░                \n",
              "«a_0: ─────────────────────░────────────────\n",
              "«                          ░                \n",
              "«a_1: ─────────────────────░────────────────\n",
              "«                          ░                \n",
              "«a_2: ─────────────────────░────────────────\n",
              "«                          ░                \n",
              "«a_3: ──■────■─────────────░────────────────\n",
              "«       │    │             ░ ┌─┐            \n",
              "«b_0: ──┼────┼─────────────░─┤M├────────────\n",
              "«       │    │             ░ └╥┘┌─┐         \n",
              "«b_1: ──┼────┼─────────────░──╫─┤M├─────────\n",
              "«       │    │             ░  ║ └╥┘┌─┐      \n",
              "«b_2: ──┼────┼─────────────░──╫──╫─┤M├──────\n",
              "«       │  ┌─┴─┐     ┌───┐ ░  ║  ║ └╥┘┌─┐   \n",
              "«b_3: ──■──┤ X ├──■──┤ X ├─░──╫──╫──╫─┤M├───\n",
              "«       │  └───┘  │  └─┬─┘ ░  ║  ║  ║ └╥┘   \n",
              "«c_0: ──┼─────────┼────┼───░──╫──╫──╫──╫────\n",
              "«       │         │    │   ░  ║  ║  ║  ║    \n",
              "«c_1: ──┼─────────┼────┼───░──╫──╫──╫──╫────\n",
              "«       │         │    │   ░  ║  ║  ║  ║    \n",
              "«c_2: ──┼─────────┼────┼───░──╫──╫──╫──╫────\n",
              "«       │         │    │   ░  ║  ║  ║  ║    \n",
              "«c_3: ──┼─────────■────■───░──╫──╫──╫──╫────\n",
              "«     ┌─┴─┐     ┌─┴─┐      ░  ║  ║  ║  ║ ┌─┐\n",
              "«c_4: ┤ X ├─────┤ X ├──────░──╫──╫──╫──╫─┤M├\n",
              "«     └───┘     └───┘      ░  ║  ║  ║  ║ └╥┘\n",
              "«s: 5/════════════════════════╩══╩══╩══╩══╩═\n",
              "«                             0  1  2  3  4 </pre>"
            ],
            "text/plain": [
              "                               ░                      ░                      ░ »\n",
              "a_0: ───────■────■─────────────░──────────────────────░──────────────────────░─»\n",
              "     ┌───┐  │    │             ░                      ░                      ░ »\n",
              "a_1: ┤ X ├──┼────┼─────────────░───■────■─────────────░──────────────────────░─»\n",
              "     └───┘  │    │             ░   │    │             ░                      ░ »\n",
              "a_2: ───────┼────┼─────────────░───┼────┼─────────────░───■────■─────────────░─»\n",
              "            │    │             ░   │    │             ░   │    │             ░ »\n",
              "a_3: ───────┼────┼─────────────░───┼────┼─────────────░───┼────┼─────────────░─»\n",
              "     ┌───┐  │  ┌─┴─┐     ┌───┐ ░   │    │             ░   │    │             ░ »\n",
              "b_0: ┤ X ├──■──┤ X ├──■──┤ X ├─░───┼────┼─────────────░───┼────┼─────────────░─»\n",
              "     ├───┤  │  └───┘  │  └─┬─┘ ░   │  ┌─┴─┐     ┌───┐ ░   │    │             ░ »\n",
              "b_1: ┤ X ├──┼─────────┼────┼───░───■──┤ X ├──■──┤ X ├─░───┼────┼─────────────░─»\n",
              "     └───┘  │         │    │   ░   │  └───┘  │  └─┬─┘ ░   │  ┌─┴─┐     ┌───┐ ░ »\n",
              "b_2: ───────┼─────────┼────┼───░───┼─────────┼────┼───░───■──┤ X ├──■──┤ X ├─░─»\n",
              "     ┌───┐  │         │    │   ░   │         │    │   ░   │  └───┘  │  └─┬─┘ ░ »\n",
              "b_3: ┤ X ├──┼─────────┼────┼───░───┼─────────┼────┼───░───┼─────────┼────┼───░─»\n",
              "     └───┘  │         │    │   ░   │         │    │   ░   │         │    │   ░ »\n",
              "c_0: ───────┼─────────■────■───░───┼─────────┼────┼───░───┼─────────┼────┼───░─»\n",
              "          ┌─┴─┐     ┌─┴─┐      ░   │         │    │   ░   │         │    │   ░ »\n",
              "c_1: ─────┤ X ├─────┤ X ├──────░───┼─────────■────■───░───┼─────────┼────┼───░─»\n",
              "          └───┘     └───┘      ░ ┌─┴─┐     ┌─┴─┐      ░   │         │    │   ░ »\n",
              "c_2: ──────────────────────────░─┤ X ├─────┤ X ├──────░───┼─────────■────■───░─»\n",
              "                               ░ └───┘     └───┘      ░ ┌─┴─┐     ┌─┴─┐      ░ »\n",
              "c_3: ──────────────────────────░──────────────────────░─┤ X ├─────┤ X ├──────░─»\n",
              "                               ░                      ░ └───┘     └───┘      ░ »\n",
              "c_4: ──────────────────────────░──────────────────────░──────────────────────░─»\n",
              "                               ░                      ░                      ░ »\n",
              "s: 5/══════════════════════════════════════════════════════════════════════════»\n",
              "                                                                               »\n",
              "«                          ░                \n",
              "«a_0: ─────────────────────░────────────────\n",
              "«                          ░                \n",
              "«a_1: ─────────────────────░────────────────\n",
              "«                          ░                \n",
              "«a_2: ─────────────────────░────────────────\n",
              "«                          ░                \n",
              "«a_3: ──■────■─────────────░────────────────\n",
              "«       │    │             ░ ┌─┐            \n",
              "«b_0: ──┼────┼─────────────░─┤M├────────────\n",
              "«       │    │             ░ └╥┘┌─┐         \n",
              "«b_1: ──┼────┼─────────────░──╫─┤M├─────────\n",
              "«       │    │             ░  ║ └╥┘┌─┐      \n",
              "«b_2: ──┼────┼─────────────░──╫──╫─┤M├──────\n",
              "«       │  ┌─┴─┐     ┌───┐ ░  ║  ║ └╥┘┌─┐   \n",
              "«b_3: ──■──┤ X ├──■──┤ X ├─░──╫──╫──╫─┤M├───\n",
              "«       │  └───┘  │  └─┬─┘ ░  ║  ║  ║ └╥┘   \n",
              "«c_0: ──┼─────────┼────┼───░──╫──╫──╫──╫────\n",
              "«       │         │    │   ░  ║  ║  ║  ║    \n",
              "«c_1: ──┼─────────┼────┼───░──╫──╫──╫──╫────\n",
              "«       │         │    │   ░  ║  ║  ║  ║    \n",
              "«c_2: ──┼─────────┼────┼───░──╫──╫──╫──╫────\n",
              "«       │         │    │   ░  ║  ║  ║  ║    \n",
              "«c_3: ──┼─────────■────■───░──╫──╫──╫──╫────\n",
              "«     ┌─┴─┐     ┌─┴─┐      ░  ║  ║  ║  ║ ┌─┐\n",
              "«c_4: ┤ X ├─────┤ X ├──────░──╫──╫──╫──╫─┤M├\n",
              "«     └───┘     └───┘      ░  ║  ║  ║  ║ └╥┘\n",
              "«s: 5/════════════════════════╩══╩══╩══╩══╩═\n",
              "«                             0  1  2  3  4 "
            ]
          },
          "execution_count": 7,
          "metadata": {},
          "output_type": "execute_result"
        }
      ],
      "source": [
        "#implementing full adder for each single qubit of the quantum register\n",
        "for i in range(4):\n",
        "  full_Adder(c[i],a[i],b[i],c[i+1],circuit)\n",
        "#Measuring the qubits\n",
        "circuit.measure(b[0],s[0])\n",
        "circuit.measure(b[1],s[1])\n",
        "circuit.measure(b[2],s[2])\n",
        "circuit.measure(b[3],s[3])\n",
        "circuit.measure(c[4],s[4])\n",
        "circuit.draw()\n",
        "\n",
        "\n"
      ]
    },
    {
      "cell_type": "code",
      "execution_count": null,
      "metadata": {
        "colab": {
          "base_uri": "https://localhost:8080/",
          "height": 514
        },
        "id": "Jo6THFM8H3CA",
        "outputId": "0fa44d44-2678-4f53-cb06-a8c2023f7d92"
      },
      "outputs": [
        {
          "name": "stdout",
          "output_type": "stream",
          "text": [
            "{'01101': 10000}\n"
          ]
        },
        {
          "data": {
            "image/png": "[encoded data removed]",
            "text/plain": [
              "<Figure size 700x500 with 1 Axes>"
            ]
          },
          "execution_count": 8,
          "metadata": {},
          "output_type": "execute_result"
        }
      ],
      "source": [
        "#simulating the quantum circuit using quantum simulator\n",
        "simulator=Aer.get_backend('qasm_simulator')\n",
        "count=execute(circuit,backend=simulator,shots=10000).result().get_counts()\n",
        "print(count)\n",
        "from qiskit.visualization import plot_histogram\n",
        "plot_histogram(count)"
      ]
    },
    {
      "cell_type": "code",
      "execution_count": null,
      "metadata": {
        "colab": {
          "base_uri": "https://localhost:8080/"
        },
        "id": "z3JDszAnF3_G",
        "outputId": "5f159e38-a59b-4dc1-e685-974dd016cb2d"
      },
      "outputs": [
        {
          "name": "stdout",
          "output_type": "stream",
          "text": [
            "Circuit depth=\n"
          ]
        },
        {
          "data": {
            "text/plain": [
              "18"
            ]
          },
          "execution_count": 9,
          "metadata": {},
          "output_type": "execute_result"
        }
      ],
      "source": [
        "print(\"Circuit depth=\")\n",
        "circuit.depth()"
      ]
    },
    {
      "cell_type": "code",
      "execution_count": null,
      "metadata": {
        "colab": {
          "base_uri": "https://localhost:8080/",
          "height": 464
        },
        "id": "lcBh7_IAHnEJ",
        "outputId": "ad395c04-9951-41a5-da98-da0c42cce677"
      },
      "outputs": [
        {
          "data": {
            "text/html": [
              "<pre style=\"word-wrap: normal;white-space: pre;background: #fff0;line-height: 1.1;font-family: &quot;Courier New&quot;,Courier,monospace\">     \n",
              "a_0: \n",
              "     \n",
              "a_1: \n",
              "     \n",
              "a_2: \n",
              "     \n",
              "a_3: \n",
              "     \n",
              "b_0: \n",
              "     \n",
              "b_1: \n",
              "     \n",
              "b_2: \n",
              "     \n",
              "b_3: \n",
              "     \n",
              "c_0: \n",
              "     \n",
              "c_1: \n",
              "     \n",
              "c_2: \n",
              "     \n",
              "c_3: \n",
              "     \n",
              "c_4: \n",
              "     \n",
              "s: 5/\n",
              "     </pre>"
            ],
            "text/plain": [
              "     \n",
              "a_0: \n",
              "     \n",
              "a_1: \n",
              "     \n",
              "a_2: \n",
              "     \n",
              "a_3: \n",
              "     \n",
              "b_0: \n",
              "     \n",
              "b_1: \n",
              "     \n",
              "b_2: \n",
              "     \n",
              "b_3: \n",
              "     \n",
              "c_0: \n",
              "     \n",
              "c_1: \n",
              "     \n",
              "c_2: \n",
              "     \n",
              "c_3: \n",
              "     \n",
              "c_4: \n",
              "     \n",
              "s: 5/\n",
              "     "
            ]
          },
          "execution_count": 10,
          "metadata": {},
          "output_type": "execute_result"
        }
      ],
      "source": [
        "circuit.clear()\n",
        "circuit.draw()"
      ]
    },
    {
      "cell_type": "markdown",
      "metadata": {
        "id": "8DWEcaGkE_pG"
      },
      "source": [
        "CASE 2-> a=|0001> b=|0011>"
      ]
    },
    {
      "cell_type": "code",
      "execution_count": null,
      "metadata": {
        "colab": {
          "base_uri": "https://localhost:8080/",
          "height": 464
        },
        "id": "jb4__oSwIJTi",
        "outputId": "a9757d5d-9db4-4b31-9a0b-fb07f7623894"
      },
      "outputs": [
        {
          "data": {
            "text/html": [
              "<pre style=\"word-wrap: normal;white-space: pre;background: #fff0;line-height: 1.1;font-family: &quot;Courier New&quot;,Courier,monospace\">     ┌───┐\n",
              "a_0: ┤ X ├\n",
              "     └───┘\n",
              "a_1: ─────\n",
              "          \n",
              "a_2: ─────\n",
              "          \n",
              "a_3: ─────\n",
              "     ┌───┐\n",
              "b_0: ┤ X ├\n",
              "     ├───┤\n",
              "b_1: ┤ X ├\n",
              "     └───┘\n",
              "b_2: ─────\n",
              "          \n",
              "b_3: ─────\n",
              "          \n",
              "c_0: ─────\n",
              "          \n",
              "c_1: ─────\n",
              "          \n",
              "c_2: ─────\n",
              "          \n",
              "c_3: ─────\n",
              "          \n",
              "c_4: ─────\n",
              "          \n",
              "s: 5/═════\n",
              "          </pre>"
            ],
            "text/plain": [
              "     ┌───┐\n",
              "a_0: ┤ X ├\n",
              "     └───┘\n",
              "a_1: ─────\n",
              "          \n",
              "a_2: ─────\n",
              "          \n",
              "a_3: ─────\n",
              "     ┌───┐\n",
              "b_0: ┤ X ├\n",
              "     ├───┤\n",
              "b_1: ┤ X ├\n",
              "     └───┘\n",
              "b_2: ─────\n",
              "          \n",
              "b_3: ─────\n",
              "          \n",
              "c_0: ─────\n",
              "          \n",
              "c_1: ─────\n",
              "          \n",
              "c_2: ─────\n",
              "          \n",
              "c_3: ─────\n",
              "          \n",
              "c_4: ─────\n",
              "          \n",
              "s: 5/═════\n",
              "          "
            ]
          },
          "execution_count": 11,
          "metadata": {},
          "output_type": "execute_result"
        }
      ],
      "source": [
        "#definig the numbers in the two quantum registers\n",
        "circuit.x(a[0])#applying not gate to a[0]\n",
        "circuit.x(b[0])#applying not gate to b[0]\n",
        "circuit.x(b[1])#applying not gate to b[1]\n",
        "circuit.draw()"
      ]
    },
    {
      "cell_type": "code",
      "execution_count": null,
      "metadata": {
        "colab": {
          "base_uri": "https://localhost:8080/"
        },
        "id": "TbQjhREJIcBM",
        "outputId": "bd0433c6-6fc1-4bc8-8783-42aa83ebb656"
      },
      "outputs": [
        {
          "data": {
            "text/plain": [
              "<qiskit.circuit.instructionset.InstructionSet at 0x7be8191d80a0>"
            ]
          },
          "execution_count": 12,
          "metadata": {},
          "output_type": "execute_result"
        }
      ],
      "source": [
        "#implementing full adder for each single qubit of the quantum register\n",
        "for i in range(4):\n",
        "  full_Adder(c[i],a[i],b[i],c[i+1],circuit)\n",
        "circuit.measure(b[0],s[0])\n",
        "circuit.measure(b[1],s[1])\n",
        "circuit.measure(b[2],s[2])\n",
        "circuit.measure(b[3],s[3])\n",
        "circuit.measure(c[4],s[4])\n"
      ]
    },
    {
      "cell_type": "code",
      "execution_count": null,
      "metadata": {
        "colab": {
          "base_uri": "https://localhost:8080/",
          "height": 513
        },
        "id": "Z4tLmRT_IgTa",
        "outputId": "c9990679-83d2-4377-8c2d-11004e6cea5d"
      },
      "outputs": [
        {
          "name": "stdout",
          "output_type": "stream",
          "text": [
            "{'00100': 10000}\n"
          ]
        },
        {
          "data": {
            "image/png": "[encoded data removed]",
            "text/plain": [
              "<Figure size 700x500 with 1 Axes>"
            ]
          },
          "execution_count": 13,
          "metadata": {},
          "output_type": "execute_result"
        }
      ],
      "source": [
        "simulator=Aer.get_backend('qasm_simulator')\n",
        "count=execute(circuit,backend=simulator,shots=10000).result().get_counts()\n",
        "print(count)\n",
        "plot_histogram(count)"
      ]
    },
    {
      "cell_type": "code",
      "execution_count": null,
      "metadata": {
        "colab": {
          "base_uri": "https://localhost:8080/"
        },
        "id": "ZbNTiph-GF4I",
        "outputId": "d59e40b5-24b0-4e1e-a8b9-973a3a44926c"
      },
      "outputs": [
        {
          "name": "stdout",
          "output_type": "stream",
          "text": [
            "Circuit depth=\n"
          ]
        },
        {
          "data": {
            "text/plain": [
              "18"
            ]
          },
          "execution_count": 14,
          "metadata": {},
          "output_type": "execute_result"
        }
      ],
      "source": [
        "print(\"Circuit depth=\")\n",
        "circuit.depth()"
      ]
    },
    {
      "cell_type": "code",
      "execution_count": null,
      "metadata": {
        "colab": {
          "base_uri": "https://localhost:8080/",
          "height": 464
        },
        "id": "lhn204tlIsMm",
        "outputId": "6807734e-644e-4a63-c137-0480e48a4c0d"
      },
      "outputs": [
        {
          "data": {
            "text/html": [
              "<pre style=\"word-wrap: normal;white-space: pre;background: #fff0;line-height: 1.1;font-family: &quot;Courier New&quot;,Courier,monospace\">     \n",
              "a_0: \n",
              "     \n",
              "a_1: \n",
              "     \n",
              "a_2: \n",
              "     \n",
              "a_3: \n",
              "     \n",
              "b_0: \n",
              "     \n",
              "b_1: \n",
              "     \n",
              "b_2: \n",
              "     \n",
              "b_3: \n",
              "     \n",
              "c_0: \n",
              "     \n",
              "c_1: \n",
              "     \n",
              "c_2: \n",
              "     \n",
              "c_3: \n",
              "     \n",
              "c_4: \n",
              "     \n",
              "s: 5/\n",
              "     </pre>"
            ],
            "text/plain": [
              "     \n",
              "a_0: \n",
              "     \n",
              "a_1: \n",
              "     \n",
              "a_2: \n",
              "     \n",
              "a_3: \n",
              "     \n",
              "b_0: \n",
              "     \n",
              "b_1: \n",
              "     \n",
              "b_2: \n",
              "     \n",
              "b_3: \n",
              "     \n",
              "c_0: \n",
              "     \n",
              "c_1: \n",
              "     \n",
              "c_2: \n",
              "     \n",
              "c_3: \n",
              "     \n",
              "c_4: \n",
              "     \n",
              "s: 5/\n",
              "     "
            ]
          },
          "execution_count": 15,
          "metadata": {},
          "output_type": "execute_result"
        }
      ],
      "source": [
        "circuit.clear()\n",
        "circuit.draw()"
      ]
    },
    {
      "cell_type": "markdown",
      "metadata": {
        "id": "cdi1BUrzFFhq"
      },
      "source": [
        "CASE 3-> a=(|0010>+|0100>)/sqrt(2) b=(|1011>+|0001>)/sqrt(2)"
      ]
    },
    {
      "cell_type": "code",
      "execution_count": null,
      "metadata": {
        "colab": {
          "base_uri": "https://localhost:8080/",
          "height": 464
        },
        "id": "FKtvKVLWLuOZ",
        "outputId": "aef88553-ed4f-4c28-eddb-0fe07a1650b5"
      },
      "outputs": [
        {
          "data": {
            "text/html": [
              "<pre style=\"word-wrap: normal;white-space: pre;background: #fff0;line-height: 1.1;font-family: &quot;Courier New&quot;,Courier,monospace\">     ┌──────────────────────────────────────────────────────────┐\n",
              "a_0: ┤0                                                         ├\n",
              "     │                                                          │\n",
              "a_1: ┤1                                                         ├\n",
              "     │  Initialize(0,0,0.70711,0,0.70711,0,0,0,0,0,0,0,0,0,0,0) │\n",
              "a_2: ┤2                                                         ├\n",
              "     │                                                          │\n",
              "a_3: ┤3                                                         ├\n",
              "     ├──────────────────────────────────────────────────────────┤\n",
              "b_0: ┤0                                                         ├\n",
              "     │                                                          │\n",
              "b_1: ┤1                                                         ├\n",
              "     │  Initialize(0,0.70711,0,0,0,0,0,0,0,0,0,0.70711,0,0,0,0) │\n",
              "b_2: ┤2                                                         ├\n",
              "     │                                                          │\n",
              "b_3: ┤3                                                         ├\n",
              "     └──────────────────────────────────────────────────────────┘\n",
              "c_0: ────────────────────────────────────────────────────────────\n",
              "                                                                 \n",
              "c_1: ────────────────────────────────────────────────────────────\n",
              "                                                                 \n",
              "c_2: ────────────────────────────────────────────────────────────\n",
              "                                                                 \n",
              "c_3: ────────────────────────────────────────────────────────────\n",
              "                                                                 \n",
              "c_4: ────────────────────────────────────────────────────────────\n",
              "                                                                 \n",
              "s: 5/════════════════════════════════════════════════════════════\n",
              "                                                                 </pre>"
            ],
            "text/plain": [
              "     ┌──────────────────────────────────────────────────────────┐\n",
              "a_0: ┤0                                                         ├\n",
              "     │                                                          │\n",
              "a_1: ┤1                                                         ├\n",
              "     │  Initialize(0,0,0.70711,0,0.70711,0,0,0,0,0,0,0,0,0,0,0) │\n",
              "a_2: ┤2                                                         ├\n",
              "     │                                                          │\n",
              "a_3: ┤3                                                         ├\n",
              "     ├──────────────────────────────────────────────────────────┤\n",
              "b_0: ┤0                                                         ├\n",
              "     │                                                          │\n",
              "b_1: ┤1                                                         ├\n",
              "     │  Initialize(0,0.70711,0,0,0,0,0,0,0,0,0,0.70711,0,0,0,0) │\n",
              "b_2: ┤2                                                         ├\n",
              "     │                                                          │\n",
              "b_3: ┤3                                                         ├\n",
              "     └──────────────────────────────────────────────────────────┘\n",
              "c_0: ────────────────────────────────────────────────────────────\n",
              "                                                                 \n",
              "c_1: ────────────────────────────────────────────────────────────\n",
              "                                                                 \n",
              "c_2: ────────────────────────────────────────────────────────────\n",
              "                                                                 \n",
              "c_3: ────────────────────────────────────────────────────────────\n",
              "                                                                 \n",
              "c_4: ────────────────────────────────────────────────────────────\n",
              "                                                                 \n",
              "s: 5/════════════════════════════════════════════════════════════\n",
              "                                                                 "
            ]
          },
          "execution_count": 16,
          "metadata": {},
          "output_type": "execute_result"
        }
      ],
      "source": [
        "import numpy as np\n",
        "from numpy import sqrt\n",
        "desired_state_a = np.array([0, 0, 1, 0, 1, 0, 0, 0,0,0,0,0,0,0,0,0]) /sqrt(2)\n",
        "circuit.initialize(desired_state_a, a)\n",
        "desired_state_b = np.array([0, 1, 0, 0, 0, 0, 0, 0,0,0,0,1,0,0,0,0]) /sqrt(2)\n",
        "circuit.initialize(desired_state_b, b)\n",
        "circuit.draw()\n"
      ]
    },
    {
      "cell_type": "code",
      "execution_count": null,
      "metadata": {
        "colab": {
          "base_uri": "https://localhost:8080/"
        },
        "id": "2z8Jz5NhR5_m",
        "outputId": "21fed3f1-8a67-4edf-a456-dbde10e5028e"
      },
      "outputs": [
        {
          "data": {
            "text/plain": [
              "<qiskit.circuit.instructionset.InstructionSet at 0x7be81902d8d0>"
            ]
          },
          "execution_count": 17,
          "metadata": {},
          "output_type": "execute_result"
        }
      ],
      "source": [
        "#implementing full adder for each single qubit of the quantum register\n",
        "for i in range(4):\n",
        "  full_Adder(c[i],a[i],b[i],c[i+1],circuit)\n",
        "circuit.measure(b[0],s[0])\n",
        "circuit.measure(b[1],s[1])\n",
        "circuit.measure(b[2],s[2])\n",
        "circuit.measure(b[3],s[3])\n",
        "circuit.measure(c[4],s[4])\n"
      ]
    },
    {
      "cell_type": "code",
      "execution_count": null,
      "metadata": {
        "colab": {
          "base_uri": "https://localhost:8080/",
          "height": 514
        },
        "id": "bJKtac4IQxh0",
        "outputId": "33fa018b-22c0-4a28-a092-b6c129500bee"
      },
      "outputs": [
        {
          "name": "stdout",
          "output_type": "stream",
          "text": [
            "{'01101': 2553, '00101': 2454, '01111': 2524, '00011': 2469}\n"
          ]
        },
        {
          "data": {
            "image/png": "[encoded data removed]",
            "text/plain": [
              "<Figure size 700x500 with 1 Axes>"
            ]
          },
          "execution_count": 18,
          "metadata": {},
          "output_type": "execute_result"
        }
      ],
      "source": [
        "simulator=Aer.get_backend('qasm_simulator')\n",
        "count=execute(circuit,backend=simulator,shots=10000).result().get_counts()\n",
        "print(count)\n",
        "plot_histogram(count)"
      ]
    },
    {
      "cell_type": "code",
      "execution_count": null,
      "metadata": {
        "colab": {
          "base_uri": "https://localhost:8080/"
        },
        "id": "Q3QqZrjsGKgf",
        "outputId": "87422fb4-b362-45c9-db0a-4ea6c16c0e41"
      },
      "outputs": [
        {
          "name": "stdout",
          "output_type": "stream",
          "text": [
            "Circuit depth=\n"
          ]
        },
        {
          "data": {
            "text/plain": [
              "18"
            ]
          },
          "execution_count": 19,
          "metadata": {},
          "output_type": "execute_result"
        }
      ],
      "source": [
        "print(\"Circuit depth=\")\n",
        "circuit.depth()"
      ]
    },
    {
      "cell_type": "code",
      "execution_count": null,
      "metadata": {
        "colab": {
          "base_uri": "https://localhost:8080/",
          "height": 464
        },
        "id": "XVMYezfCR0Sp",
        "outputId": "47b750c0-21e2-427a-99c4-25e498d1bd80"
      },
      "outputs": [
        {
          "data": {
            "text/html": [
              "<pre style=\"word-wrap: normal;white-space: pre;background: #fff0;line-height: 1.1;font-family: &quot;Courier New&quot;,Courier,monospace\">     \n",
              "a_0: \n",
              "     \n",
              "a_1: \n",
              "     \n",
              "a_2: \n",
              "     \n",
              "a_3: \n",
              "     \n",
              "b_0: \n",
              "     \n",
              "b_1: \n",
              "     \n",
              "b_2: \n",
              "     \n",
              "b_3: \n",
              "     \n",
              "c_0: \n",
              "     \n",
              "c_1: \n",
              "     \n",
              "c_2: \n",
              "     \n",
              "c_3: \n",
              "     \n",
              "c_4: \n",
              "     \n",
              "s: 5/\n",
              "     </pre>"
            ],
            "text/plain": [
              "     \n",
              "a_0: \n",
              "     \n",
              "a_1: \n",
              "     \n",
              "a_2: \n",
              "     \n",
              "a_3: \n",
              "     \n",
              "b_0: \n",
              "     \n",
              "b_1: \n",
              "     \n",
              "b_2: \n",
              "     \n",
              "b_3: \n",
              "     \n",
              "c_0: \n",
              "     \n",
              "c_1: \n",
              "     \n",
              "c_2: \n",
              "     \n",
              "c_3: \n",
              "     \n",
              "c_4: \n",
              "     \n",
              "s: 5/\n",
              "     "
            ]
          },
          "execution_count": 20,
          "metadata": {},
          "output_type": "execute_result"
        }
      ],
      "source": [
        "circuit.clear()\n",
        "circuit.draw()"
      ]
    },
    {
      "cell_type": "markdown",
      "metadata": {
        "id": "l7jY3qY1Fd4y"
      },
      "source": [
        "Case 4-> a=(|0000>+|0111>)/sqrt(2) b=(|0111>+|1000>)/sqrt(2)"
      ]
    },
    {
      "cell_type": "code",
      "execution_count": null,
      "metadata": {
        "colab": {
          "base_uri": "https://localhost:8080/",
          "height": 464
        },
        "id": "v7YE6mKWR9S4",
        "outputId": "a86ac452-c85a-434d-d6b4-a165d65baff1"
      },
      "outputs": [
        {
          "data": {
            "text/html": [
              "<pre style=\"word-wrap: normal;white-space: pre;background: #fff0;line-height: 1.1;font-family: &quot;Courier New&quot;,Courier,monospace\">     ┌──────────────────────────────────────────────────────────┐\n",
              "a_0: ┤0                                                         ├\n",
              "     │                                                          │\n",
              "a_1: ┤1                                                         ├\n",
              "     │  Initialize(0.70711,0,0,0,0,0,0,0.70711,0,0,0,0,0,0,0,0) │\n",
              "a_2: ┤2                                                         ├\n",
              "     │                                                          │\n",
              "a_3: ┤3                                                         ├\n",
              "     ├──────────────────────────────────────────────────────────┤\n",
              "b_0: ┤0                                                         ├\n",
              "     │                                                          │\n",
              "b_1: ┤1                                                         ├\n",
              "     │  Initialize(0,0,0,0,0,0,0,0.70711,0.70711,0,0,0,0,0,0,0) │\n",
              "b_2: ┤2                                                         ├\n",
              "     │                                                          │\n",
              "b_3: ┤3                                                         ├\n",
              "     └──────────────────────────────────────────────────────────┘\n",
              "c_0: ────────────────────────────────────────────────────────────\n",
              "                                                                 \n",
              "c_1: ────────────────────────────────────────────────────────────\n",
              "                                                                 \n",
              "c_2: ────────────────────────────────────────────────────────────\n",
              "                                                                 \n",
              "c_3: ────────────────────────────────────────────────────────────\n",
              "                                                                 \n",
              "c_4: ────────────────────────────────────────────────────────────\n",
              "                                                                 \n",
              "s: 5/════════════════════════════════════════════════════════════\n",
              "                                                                 </pre>"
            ],
            "text/plain": [
              "     ┌──────────────────────────────────────────────────────────┐\n",
              "a_0: ┤0                                                         ├\n",
              "     │                                                          │\n",
              "a_1: ┤1                                                         ├\n",
              "     │  Initialize(0.70711,0,0,0,0,0,0,0.70711,0,0,0,0,0,0,0,0) │\n",
              "a_2: ┤2                                                         ├\n",
              "     │                                                          │\n",
              "a_3: ┤3                                                         ├\n",
              "     ├──────────────────────────────────────────────────────────┤\n",
              "b_0: ┤0                                                         ├\n",
              "     │                                                          │\n",
              "b_1: ┤1                                                         ├\n",
              "     │  Initialize(0,0,0,0,0,0,0,0.70711,0.70711,0,0,0,0,0,0,0) │\n",
              "b_2: ┤2                                                         ├\n",
              "     │                                                          │\n",
              "b_3: ┤3                                                         ├\n",
              "     └──────────────────────────────────────────────────────────┘\n",
              "c_0: ────────────────────────────────────────────────────────────\n",
              "                                                                 \n",
              "c_1: ────────────────────────────────────────────────────────────\n",
              "                                                                 \n",
              "c_2: ────────────────────────────────────────────────────────────\n",
              "                                                                 \n",
              "c_3: ────────────────────────────────────────────────────────────\n",
              "                                                                 \n",
              "c_4: ────────────────────────────────────────────────────────────\n",
              "                                                                 \n",
              "s: 5/════════════════════════════════════════════════════════════\n",
              "                                                                 "
            ]
          },
          "execution_count": 21,
          "metadata": {},
          "output_type": "execute_result"
        }
      ],
      "source": [
        "desired_state_a = np.array([1, 0, 0, 0, 0, 0, 0, 1,0,0,0,0,0,0,0,0]) /sqrt(2)\n",
        "circuit.initialize(desired_state_a, a)\n",
        "desired_state_b = np.array([0, 0, 0, 0, 0, 0, 0, 1,1,0,0,0,0,0,0,0]) /sqrt(2)\n",
        "circuit.initialize(desired_state_b, b)\n",
        "circuit.draw()"
      ]
    },
    {
      "cell_type": "code",
      "execution_count": null,
      "metadata": {
        "colab": {
          "base_uri": "https://localhost:8080/"
        },
        "id": "EjtQjHbxR-Hw",
        "outputId": "53c73f6a-7079-4b17-c390-341f5e6e98b6"
      },
      "outputs": [
        {
          "data": {
            "text/plain": [
              "<qiskit.circuit.instructionset.InstructionSet at 0x7be8190b02e0>"
            ]
          },
          "execution_count": 22,
          "metadata": {},
          "output_type": "execute_result"
        }
      ],
      "source": [
        "#implementing full adder for each single qubit of the quantum register\n",
        "for i in range(4):\n",
        "  full_Adder(c[i],a[i],b[i],c[i+1],circuit)\n",
        "circuit.measure(b[0],s[0])\n",
        "circuit.measure(b[1],s[1])\n",
        "circuit.measure(b[2],s[2])\n",
        "circuit.measure(b[3],s[3])\n",
        "circuit.measure(c[4],s[4])"
      ]
    },
    {
      "cell_type": "code",
      "execution_count": null,
      "metadata": {
        "colab": {
          "base_uri": "https://localhost:8080/",
          "height": 514
        },
        "id": "ypqfI3YpSDe-",
        "outputId": "4fbf108b-55e5-4ed3-f7b8-5214ac53876d"
      },
      "outputs": [
        {
          "name": "stdout",
          "output_type": "stream",
          "text": [
            "{'01110': 2442, '01000': 2546, '00111': 2509, '01111': 2503}\n"
          ]
        },
        {
          "data": {
            "image/png": "[encoded data removed]",
            "text/plain": [
              "<Figure size 700x500 with 1 Axes>"
            ]
          },
          "execution_count": 23,
          "metadata": {},
          "output_type": "execute_result"
        }
      ],
      "source": [
        "simulator=Aer.get_backend('qasm_simulator')\n",
        "count=execute(circuit,backend=simulator,shots=10000).result().get_counts()\n",
        "print(count)\n",
        "plot_histogram(count)"
      ]
    },
    {
      "cell_type": "code",
      "execution_count": null,
      "metadata": {
        "colab": {
          "base_uri": "https://localhost:8080/"
        },
        "id": "ubrdLJTLGMcM",
        "outputId": "96722818-89b9-4023-8ecf-f0e33f64a9b2"
      },
      "outputs": [
        {
          "name": "stdout",
          "output_type": "stream",
          "text": [
            "Circuit depth=\n"
          ]
        },
        {
          "data": {
            "text/plain": [
              "18"
            ]
          },
          "execution_count": 24,
          "metadata": {},
          "output_type": "execute_result"
        }
      ],
      "source": [
        "print(\"Circuit depth=\")\n",
        "circuit.depth()"
      ]
    },
    {
      "cell_type": "code",
      "execution_count": null,
      "metadata": {
        "colab": {
          "base_uri": "https://localhost:8080/",
          "height": 464
        },
        "id": "BMwX1lN4SD8Y",
        "outputId": "45e24b53-e823-4d60-bbf4-fa5ee4740d4a"
      },
      "outputs": [
        {
          "data": {
            "text/html": [
              "<pre style=\"word-wrap: normal;white-space: pre;background: #fff0;line-height: 1.1;font-family: &quot;Courier New&quot;,Courier,monospace\">     \n",
              "a_0: \n",
              "     \n",
              "a_1: \n",
              "     \n",
              "a_2: \n",
              "     \n",
              "a_3: \n",
              "     \n",
              "b_0: \n",
              "     \n",
              "b_1: \n",
              "     \n",
              "b_2: \n",
              "     \n",
              "b_3: \n",
              "     \n",
              "c_0: \n",
              "     \n",
              "c_1: \n",
              "     \n",
              "c_2: \n",
              "     \n",
              "c_3: \n",
              "     \n",
              "c_4: \n",
              "     \n",
              "s: 5/\n",
              "     </pre>"
            ],
            "text/plain": [
              "     \n",
              "a_0: \n",
              "     \n",
              "a_1: \n",
              "     \n",
              "a_2: \n",
              "     \n",
              "a_3: \n",
              "     \n",
              "b_0: \n",
              "     \n",
              "b_1: \n",
              "     \n",
              "b_2: \n",
              "     \n",
              "b_3: \n",
              "     \n",
              "c_0: \n",
              "     \n",
              "c_1: \n",
              "     \n",
              "c_2: \n",
              "     \n",
              "c_3: \n",
              "     \n",
              "c_4: \n",
              "     \n",
              "s: 5/\n",
              "     "
            ]
          },
          "execution_count": 25,
          "metadata": {},
          "output_type": "execute_result"
        }
      ],
      "source": [
        "circuit.clear()\n",
        "circuit.draw()"
      ]
    },
    {
      "cell_type": "markdown",
      "metadata": {
        "id": "AupKi_aSgA8h"
      },
      "source": [
        "ENTANGLEMENT\n"
      ]
    },
    {
      "cell_type": "markdown",
      "metadata": {
        "id": "riBl99iny_oF"
      },
      "source": [
        "We will first look at variouys cases to discuss entangled qubits as inputs for a quantum adder, the complexity level will increase for each case\n",
        "Case-1\n",
        "a=|0010> b=|1011> and the rightmost qubit of both registers are entangled being in a bell state"
      ]
    },
    {
      "cell_type": "code",
      "execution_count": null,
      "metadata": {
        "colab": {
          "base_uri": "https://localhost:8080/"
        },
        "id": "32iGTFxfgArW",
        "outputId": "cc3fdc98-5638-4989-81bd-52904a984ac4"
      },
      "outputs": [
        {
          "data": {
            "text/plain": [
              "<qiskit.circuit.instructionset.InstructionSet at 0x7be8190b1ae0>"
            ]
          },
          "execution_count": 26,
          "metadata": {},
          "output_type": "execute_result"
        }
      ],
      "source": [
        "circuit.x(a[1])\n",
        "circuit.x(b[0])\n",
        "circuit.x(b[1])\n",
        "circuit.x(b[3])"
      ]
    },
    {
      "cell_type": "code",
      "execution_count": null,
      "metadata": {
        "colab": {
          "base_uri": "https://localhost:8080/"
        },
        "id": "SfBBUWJAgWks",
        "outputId": "21f5e834-73e3-46c1-821a-5e5cde7b9092"
      },
      "outputs": [
        {
          "data": {
            "text/plain": [
              "<qiskit.circuit.instructionset.InstructionSet at 0x7be8190b2e30>"
            ]
          },
          "execution_count": 27,
          "metadata": {},
          "output_type": "execute_result"
        }
      ],
      "source": [
        "#Entangling the qubits\n",
        "circuit.h(a[0])\n",
        "circuit.cx(a[0],b[0])"
      ]
    },
    {
      "cell_type": "markdown",
      "metadata": {
        "id": "2cwvMjSl09XO"
      },
      "source": [
        "Here a[0]=0 and b[0}=1 entangling these two make them to be present in the state (|01>+|10>)/sqrt(2), i.e (b,a)=(0,1)or(1,0) with equal probability of 0.5 addition in both cases leads to the same result, hence we can get same result for all the shots"
      ]
    },
    {
      "cell_type": "code",
      "execution_count": null,
      "metadata": {
        "colab": {
          "base_uri": "https://localhost:8080/",
          "height": 910
        },
        "id": "Iz-vXOrAglfp",
        "outputId": "771cf286-4861-435a-f4a7-3af69fb77948"
      },
      "outputs": [
        {
          "data": {
            "text/html": [
              "<pre style=\"word-wrap: normal;white-space: pre;background: #fff0;line-height: 1.1;font-family: &quot;Courier New&quot;,Courier,monospace\">     ┌───┐                          ░                      ░                »\n",
              "a_0: ┤ H ├──■────■────■─────────────░──────────────────────░────────────────»\n",
              "     ├───┤  │    │    │             ░                      ░                »\n",
              "a_1: ┤ X ├──┼────┼────┼─────────────░───■────■─────────────░────────────────»\n",
              "     └───┘  │    │    │             ░   │    │             ░                »\n",
              "a_2: ───────┼────┼────┼─────────────░───┼────┼─────────────░───■────■───────»\n",
              "            │    │    │             ░   │    │             ░   │    │       »\n",
              "a_3: ───────┼────┼────┼─────────────░───┼────┼─────────────░───┼────┼───────»\n",
              "     ┌───┐┌─┴─┐  │  ┌─┴─┐     ┌───┐ ░   │    │             ░   │    │       »\n",
              "b_0: ┤ X ├┤ X ├──■──┤ X ├──■──┤ X ├─░───┼────┼─────────────░───┼────┼───────»\n",
              "     ├───┤└───┘  │  └───┘  │  └─┬─┘ ░   │  ┌─┴─┐     ┌───┐ ░   │    │       »\n",
              "b_1: ┤ X ├───────┼─────────┼────┼───░───■──┤ X ├──■──┤ X ├─░───┼────┼───────»\n",
              "     └───┘       │         │    │   ░   │  └───┘  │  └─┬─┘ ░   │  ┌─┴─┐     »\n",
              "b_2: ────────────┼─────────┼────┼───░───┼─────────┼────┼───░───■──┤ X ├──■──»\n",
              "     ┌───┐       │         │    │   ░   │         │    │   ░   │  └───┘  │  »\n",
              "b_3: ┤ X ├───────┼─────────┼────┼───░───┼─────────┼────┼───░───┼─────────┼──»\n",
              "     └───┘       │         │    │   ░   │         │    │   ░   │         │  »\n",
              "c_0: ────────────┼─────────■────■───░───┼─────────┼────┼───░───┼─────────┼──»\n",
              "               ┌─┴─┐     ┌─┴─┐      ░   │         │    │   ░   │         │  »\n",
              "c_1: ──────────┤ X ├─────┤ X ├──────░───┼─────────■────■───░───┼─────────┼──»\n",
              "               └───┘     └───┘      ░ ┌─┴─┐     ┌─┴─┐      ░   │         │  »\n",
              "c_2: ───────────────────────────────░─┤ X ├─────┤ X ├──────░───┼─────────■──»\n",
              "                                    ░ └───┘     └───┘      ░ ┌─┴─┐     ┌─┴─┐»\n",
              "c_3: ───────────────────────────────░──────────────────────░─┤ X ├─────┤ X ├»\n",
              "                                    ░                      ░ └───┘     └───┘»\n",
              "c_4: ───────────────────────────────░──────────────────────░────────────────»\n",
              "                                    ░                      ░                »\n",
              "s: 5/═══════════════════════════════════════════════════════════════════════»\n",
              "                                                                            »\n",
              "«           ░                      ░                \n",
              "«a_0: ──────░──────────────────────░────────────────\n",
              "«           ░                      ░                \n",
              "«a_1: ──────░──────────────────────░────────────────\n",
              "«           ░                      ░                \n",
              "«a_2: ──────░──────────────────────░────────────────\n",
              "«           ░                      ░                \n",
              "«a_3: ──────░───■────■─────────────░────────────────\n",
              "«           ░   │    │             ░ ┌─┐            \n",
              "«b_0: ──────░───┼────┼─────────────░─┤M├────────────\n",
              "«           ░   │    │             ░ └╥┘┌─┐         \n",
              "«b_1: ──────░───┼────┼─────────────░──╫─┤M├─────────\n",
              "«     ┌───┐ ░   │    │             ░  ║ └╥┘┌─┐      \n",
              "«b_2: ┤ X ├─░───┼────┼─────────────░──╫──╫─┤M├──────\n",
              "«     └─┬─┘ ░   │  ┌─┴─┐     ┌───┐ ░  ║  ║ └╥┘┌─┐   \n",
              "«b_3: ──┼───░───■──┤ X ├──■──┤ X ├─░──╫──╫──╫─┤M├───\n",
              "«       │   ░   │  └───┘  │  └─┬─┘ ░  ║  ║  ║ └╥┘   \n",
              "«c_0: ──┼───░───┼─────────┼────┼───░──╫──╫──╫──╫────\n",
              "«       │   ░   │         │    │   ░  ║  ║  ║  ║    \n",
              "«c_1: ──┼───░───┼─────────┼────┼───░──╫──╫──╫──╫────\n",
              "«       │   ░   │         │    │   ░  ║  ║  ║  ║    \n",
              "«c_2: ──■───░───┼─────────┼────┼───░──╫──╫──╫──╫────\n",
              "«           ░   │         │    │   ░  ║  ║  ║  ║    \n",
              "«c_3: ──────░───┼─────────■────■───░──╫──╫──╫──╫────\n",
              "«           ░ ┌─┴─┐     ┌─┴─┐      ░  ║  ║  ║  ║ ┌─┐\n",
              "«c_4: ──────░─┤ X ├─────┤ X ├──────░──╫──╫──╫──╫─┤M├\n",
              "«           ░ └───┘     └───┘      ░  ║  ║  ║  ║ └╥┘\n",
              "«s: 5/════════════════════════════════╩══╩══╩══╩══╩═\n",
              "«                                     0  1  2  3  4 </pre>"
            ],
            "text/plain": [
              "     ┌───┐                          ░                      ░                »\n",
              "a_0: ┤ H ├──■────■────■─────────────░──────────────────────░────────────────»\n",
              "     ├───┤  │    │    │             ░                      ░                »\n",
              "a_1: ┤ X ├──┼────┼────┼─────────────░───■────■─────────────░────────────────»\n",
              "     └───┘  │    │    │             ░   │    │             ░                »\n",
              "a_2: ───────┼────┼────┼─────────────░───┼────┼─────────────░───■────■───────»\n",
              "            │    │    │             ░   │    │             ░   │    │       »\n",
              "a_3: ───────┼────┼────┼─────────────░───┼────┼─────────────░───┼────┼───────»\n",
              "     ┌───┐┌─┴─┐  │  ┌─┴─┐     ┌───┐ ░   │    │             ░   │    │       »\n",
              "b_0: ┤ X ├┤ X ├──■──┤ X ├──■──┤ X ├─░───┼────┼─────────────░───┼────┼───────»\n",
              "     ├───┤└───┘  │  └───┘  │  └─┬─┘ ░   │  ┌─┴─┐     ┌───┐ ░   │    │       »\n",
              "b_1: ┤ X ├───────┼─────────┼────┼───░───■──┤ X ├──■──┤ X ├─░───┼────┼───────»\n",
              "     └───┘       │         │    │   ░   │  └───┘  │  └─┬─┘ ░   │  ┌─┴─┐     »\n",
              "b_2: ────────────┼─────────┼────┼───░───┼─────────┼────┼───░───■──┤ X ├──■──»\n",
              "     ┌───┐       │         │    │   ░   │         │    │   ░   │  └───┘  │  »\n",
              "b_3: ┤ X ├───────┼─────────┼────┼───░───┼─────────┼────┼───░───┼─────────┼──»\n",
              "     └───┘       │         │    │   ░   │         │    │   ░   │         │  »\n",
              "c_0: ────────────┼─────────■────■───░───┼─────────┼────┼───░───┼─────────┼──»\n",
              "               ┌─┴─┐     ┌─┴─┐      ░   │         │    │   ░   │         │  »\n",
              "c_1: ──────────┤ X ├─────┤ X ├──────░───┼─────────■────■───░───┼─────────┼──»\n",
              "               └───┘     └───┘      ░ ┌─┴─┐     ┌─┴─┐      ░   │         │  »\n",
              "c_2: ───────────────────────────────░─┤ X ├─────┤ X ├──────░───┼─────────■──»\n",
              "                                    ░ └───┘     └───┘      ░ ┌─┴─┐     ┌─┴─┐»\n",
              "c_3: ───────────────────────────────░──────────────────────░─┤ X ├─────┤ X ├»\n",
              "                                    ░                      ░ └───┘     └───┘»\n",
              "c_4: ───────────────────────────────░──────────────────────░────────────────»\n",
              "                                    ░                      ░                »\n",
              "s: 5/═══════════════════════════════════════════════════════════════════════»\n",
              "                                                                            »\n",
              "«           ░                      ░                \n",
              "«a_0: ──────░──────────────────────░────────────────\n",
              "«           ░                      ░                \n",
              "«a_1: ──────░──────────────────────░────────────────\n",
              "«           ░                      ░                \n",
              "«a_2: ──────░──────────────────────░────────────────\n",
              "«           ░                      ░                \n",
              "«a_3: ──────░───■────■─────────────░────────────────\n",
              "«           ░   │    │             ░ ┌─┐            \n",
              "«b_0: ──────░───┼────┼─────────────░─┤M├────────────\n",
              "«           ░   │    │             ░ └╥┘┌─┐         \n",
              "«b_1: ──────░───┼────┼─────────────░──╫─┤M├─────────\n",
              "«     ┌───┐ ░   │    │             ░  ║ └╥┘┌─┐      \n",
              "«b_2: ┤ X ├─░───┼────┼─────────────░──╫──╫─┤M├──────\n",
              "«     └─┬─┘ ░   │  ┌─┴─┐     ┌───┐ ░  ║  ║ └╥┘┌─┐   \n",
              "«b_3: ──┼───░───■──┤ X ├──■──┤ X ├─░──╫──╫──╫─┤M├───\n",
              "«       │   ░   │  └───┘  │  └─┬─┘ ░  ║  ║  ║ └╥┘   \n",
              "«c_0: ──┼───░───┼─────────┼────┼───░──╫──╫──╫──╫────\n",
              "«       │   ░   │         │    │   ░  ║  ║  ║  ║    \n",
              "«c_1: ──┼───░───┼─────────┼────┼───░──╫──╫──╫──╫────\n",
              "«       │   ░   │         │    │   ░  ║  ║  ║  ║    \n",
              "«c_2: ──■───░───┼─────────┼────┼───░──╫──╫──╫──╫────\n",
              "«           ░   │         │    │   ░  ║  ║  ║  ║    \n",
              "«c_3: ──────░───┼─────────■────■───░──╫──╫──╫──╫────\n",
              "«           ░ ┌─┴─┐     ┌─┴─┐      ░  ║  ║  ║  ║ ┌─┐\n",
              "«c_4: ──────░─┤ X ├─────┤ X ├──────░──╫──╫──╫──╫─┤M├\n",
              "«           ░ └───┘     └───┘      ░  ║  ║  ║  ║ └╥┘\n",
              "«s: 5/════════════════════════════════╩══╩══╩══╩══╩═\n",
              "«                                     0  1  2  3  4 "
            ]
          },
          "execution_count": 28,
          "metadata": {},
          "output_type": "execute_result"
        }
      ],
      "source": [
        "#implementing full adder for each single qubit of the quantum register\n",
        "for i in range(4):\n",
        "  full_Adder(c[i],a[i],b[i],c[i+1],circuit)\n",
        "circuit.measure(b[0],s[0])\n",
        "circuit.measure(b[1],s[1])\n",
        "circuit.measure(b[2],s[2])\n",
        "circuit.measure(b[3],s[3])\n",
        "circuit.measure(c[4],s[4])\n",
        "circuit.draw()\n"
      ]
    },
    {
      "cell_type": "code",
      "execution_count": null,
      "metadata": {
        "colab": {
          "base_uri": "https://localhost:8080/",
          "height": 514
        },
        "id": "8cuAhV0qgv9O",
        "outputId": "da065908-e095-4f8b-fadc-fc848c93907d"
      },
      "outputs": [
        {
          "name": "stdout",
          "output_type": "stream",
          "text": [
            "{'01101': 10000}\n"
          ]
        },
        {
          "data": {
            "image/png": "[encoded data removed]",
            "text/plain": [
              "<Figure size 700x500 with 1 Axes>"
            ]
          },
          "execution_count": 29,
          "metadata": {},
          "output_type": "execute_result"
        }
      ],
      "source": [
        "from qiskit.visualization import plot_histogram\n",
        "simulator=Aer.get_backend('qasm_simulator')\n",
        "count=execute(circuit,backend=simulator,shots=10000).result().get_counts()\n",
        "print(count)\n",
        "plot_histogram(count)"
      ]
    },
    {
      "cell_type": "code",
      "execution_count": null,
      "metadata": {
        "colab": {
          "base_uri": "https://localhost:8080/",
          "height": 464
        },
        "id": "l6DI-9mahAqy",
        "outputId": "a9787e7e-5c37-4132-8492-6ba775421600"
      },
      "outputs": [
        {
          "data": {
            "text/html": [
              "<pre style=\"word-wrap: normal;white-space: pre;background: #fff0;line-height: 1.1;font-family: &quot;Courier New&quot;,Courier,monospace\">     \n",
              "a_0: \n",
              "     \n",
              "a_1: \n",
              "     \n",
              "a_2: \n",
              "     \n",
              "a_3: \n",
              "     \n",
              "b_0: \n",
              "     \n",
              "b_1: \n",
              "     \n",
              "b_2: \n",
              "     \n",
              "b_3: \n",
              "     \n",
              "c_0: \n",
              "     \n",
              "c_1: \n",
              "     \n",
              "c_2: \n",
              "     \n",
              "c_3: \n",
              "     \n",
              "c_4: \n",
              "     \n",
              "s: 5/\n",
              "     </pre>"
            ],
            "text/plain": [
              "     \n",
              "a_0: \n",
              "     \n",
              "a_1: \n",
              "     \n",
              "a_2: \n",
              "     \n",
              "a_3: \n",
              "     \n",
              "b_0: \n",
              "     \n",
              "b_1: \n",
              "     \n",
              "b_2: \n",
              "     \n",
              "b_3: \n",
              "     \n",
              "c_0: \n",
              "     \n",
              "c_1: \n",
              "     \n",
              "c_2: \n",
              "     \n",
              "c_3: \n",
              "     \n",
              "c_4: \n",
              "     \n",
              "s: 5/\n",
              "     "
            ]
          },
          "execution_count": 30,
          "metadata": {},
          "output_type": "execute_result"
        }
      ],
      "source": [
        "circuit.clear()\n",
        "circuit.draw()"
      ]
    },
    {
      "cell_type": "code",
      "execution_count": null,
      "metadata": {
        "colab": {
          "base_uri": "https://localhost:8080/"
        },
        "id": "iAb-6HEOhE8w",
        "outputId": "47dcc5a4-0cbc-4243-8214-6dd120c8d9bb"
      },
      "outputs": [
        {
          "data": {
            "text/plain": [
              "<qiskit.circuit.instructionset.InstructionSet at 0x7be818739f60>"
            ]
          },
          "execution_count": 31,
          "metadata": {},
          "output_type": "execute_result"
        }
      ],
      "source": [
        "circuit.x(a[1])\n",
        "circuit.x(b[0])\n",
        "circuit.x(b[1])\n",
        "circuit.x(b[3])"
      ]
    },
    {
      "cell_type": "markdown",
      "metadata": {
        "id": "a-s4mqKu2LvJ"
      },
      "source": [
        "Now for the same a and b let's entangle a[2] and b[2] where a[2]=0 and b[2]=0"
      ]
    },
    {
      "cell_type": "code",
      "execution_count": null,
      "metadata": {
        "colab": {
          "base_uri": "https://localhost:8080/",
          "height": 464
        },
        "id": "t1obQ4V2hMgD",
        "outputId": "9c5d3bbd-c9b6-449d-a6c0-8e209e70a1d3"
      },
      "outputs": [
        {
          "data": {
            "text/html": [
              "<pre style=\"word-wrap: normal;white-space: pre;background: #fff0;line-height: 1.1;font-family: &quot;Courier New&quot;,Courier,monospace\">               \n",
              "a_0: ──────────\n",
              "     ┌───┐     \n",
              "a_1: ┤ X ├─────\n",
              "     ├───┤     \n",
              "a_2: ┤ H ├──■──\n",
              "     └───┘  │  \n",
              "a_3: ───────┼──\n",
              "     ┌───┐  │  \n",
              "b_0: ┤ X ├──┼──\n",
              "     ├───┤  │  \n",
              "b_1: ┤ X ├──┼──\n",
              "     └───┘┌─┴─┐\n",
              "b_2: ─────┤ X ├\n",
              "     ┌───┐└───┘\n",
              "b_3: ┤ X ├─────\n",
              "     └───┘     \n",
              "c_0: ──────────\n",
              "               \n",
              "c_1: ──────────\n",
              "               \n",
              "c_2: ──────────\n",
              "               \n",
              "c_3: ──────────\n",
              "               \n",
              "c_4: ──────────\n",
              "               \n",
              "s: 5/══════════\n",
              "               </pre>"
            ],
            "text/plain": [
              "               \n",
              "a_0: ──────────\n",
              "     ┌───┐     \n",
              "a_1: ┤ X ├─────\n",
              "     ├───┤     \n",
              "a_2: ┤ H ├──■──\n",
              "     └───┘  │  \n",
              "a_3: ───────┼──\n",
              "     ┌───┐  │  \n",
              "b_0: ┤ X ├──┼──\n",
              "     ├───┤  │  \n",
              "b_1: ┤ X ├──┼──\n",
              "     └───┘┌─┴─┐\n",
              "b_2: ─────┤ X ├\n",
              "     ┌───┐└───┘\n",
              "b_3: ┤ X ├─────\n",
              "     └───┘     \n",
              "c_0: ──────────\n",
              "               \n",
              "c_1: ──────────\n",
              "               \n",
              "c_2: ──────────\n",
              "               \n",
              "c_3: ──────────\n",
              "               \n",
              "c_4: ──────────\n",
              "               \n",
              "s: 5/══════════\n",
              "               "
            ]
          },
          "execution_count": 32,
          "metadata": {},
          "output_type": "execute_result"
        }
      ],
      "source": [
        "#Entangling the qubits\n",
        "circuit.h(a[2])\n",
        "circuit.cx(a[2],b[2])\n",
        "circuit.draw()"
      ]
    },
    {
      "cell_type": "code",
      "execution_count": null,
      "metadata": {
        "colab": {
          "base_uri": "https://localhost:8080/",
          "height": 910
        },
        "id": "85G_N0UUhSPC",
        "outputId": "6ef83a0f-7a35-49a8-fe13-cdea61fa94ee"
      },
      "outputs": [
        {
          "data": {
            "text/html": [
              "<pre style=\"word-wrap: normal;white-space: pre;background: #fff0;line-height: 1.1;font-family: &quot;Courier New&quot;,Courier,monospace\">                                    ░                      ░                »\n",
              "a_0: ────────────■────■─────────────░──────────────────────░────────────────»\n",
              "     ┌───┐       │    │             ░                      ░                »\n",
              "a_1: ┤ X ├───────┼────┼─────────────░───■────■─────────────░────────────────»\n",
              "     ├───┤       │    │             ░   │    │             ░                »\n",
              "a_2: ┤ H ├──■────┼────┼─────────────░───┼────┼─────────────░───■────■───────»\n",
              "     └───┘  │    │    │             ░   │    │             ░   │    │       »\n",
              "a_3: ───────┼────┼────┼─────────────░───┼────┼─────────────░───┼────┼───────»\n",
              "     ┌───┐  │    │  ┌─┴─┐     ┌───┐ ░   │    │             ░   │    │       »\n",
              "b_0: ┤ X ├──┼────■──┤ X ├──■──┤ X ├─░───┼────┼─────────────░───┼────┼───────»\n",
              "     ├───┤  │    │  └───┘  │  └─┬─┘ ░   │  ┌─┴─┐     ┌───┐ ░   │    │       »\n",
              "b_1: ┤ X ├──┼────┼─────────┼────┼───░───■──┤ X ├──■──┤ X ├─░───┼────┼───────»\n",
              "     └───┘┌─┴─┐  │         │    │   ░   │  └───┘  │  └─┬─┘ ░   │  ┌─┴─┐     »\n",
              "b_2: ─────┤ X ├──┼─────────┼────┼───░───┼─────────┼────┼───░───■──┤ X ├──■──»\n",
              "     ┌───┐└───┘  │         │    │   ░   │         │    │   ░   │  └───┘  │  »\n",
              "b_3: ┤ X ├───────┼─────────┼────┼───░───┼─────────┼────┼───░───┼─────────┼──»\n",
              "     └───┘       │         │    │   ░   │         │    │   ░   │         │  »\n",
              "c_0: ────────────┼─────────■────■───░───┼─────────┼────┼───░───┼─────────┼──»\n",
              "               ┌─┴─┐     ┌─┴─┐      ░   │         │    │   ░   │         │  »\n",
              "c_1: ──────────┤ X ├─────┤ X ├──────░───┼─────────■────■───░───┼─────────┼──»\n",
              "               └───┘     └───┘      ░ ┌─┴─┐     ┌─┴─┐      ░   │         │  »\n",
              "c_2: ───────────────────────────────░─┤ X ├─────┤ X ├──────░───┼─────────■──»\n",
              "                                    ░ └───┘     └───┘      ░ ┌─┴─┐     ┌─┴─┐»\n",
              "c_3: ───────────────────────────────░──────────────────────░─┤ X ├─────┤ X ├»\n",
              "                                    ░                      ░ └───┘     └───┘»\n",
              "c_4: ───────────────────────────────░──────────────────────░────────────────»\n",
              "                                    ░                      ░                »\n",
              "s: 5/═══════════════════════════════════════════════════════════════════════»\n",
              "                                                                            »\n",
              "«           ░                      ░                \n",
              "«a_0: ──────░──────────────────────░────────────────\n",
              "«           ░                      ░                \n",
              "«a_1: ──────░──────────────────────░────────────────\n",
              "«           ░                      ░                \n",
              "«a_2: ──────░──────────────────────░────────────────\n",
              "«           ░                      ░                \n",
              "«a_3: ──────░───■────■─────────────░────────────────\n",
              "«           ░   │    │             ░ ┌─┐            \n",
              "«b_0: ──────░───┼────┼─────────────░─┤M├────────────\n",
              "«           ░   │    │             ░ └╥┘┌─┐         \n",
              "«b_1: ──────░───┼────┼─────────────░──╫─┤M├─────────\n",
              "«     ┌───┐ ░   │    │             ░  ║ └╥┘┌─┐      \n",
              "«b_2: ┤ X ├─░───┼────┼─────────────░──╫──╫─┤M├──────\n",
              "«     └─┬─┘ ░   │  ┌─┴─┐     ┌───┐ ░  ║  ║ └╥┘┌─┐   \n",
              "«b_3: ──┼───░───■──┤ X ├──■──┤ X ├─░──╫──╫──╫─┤M├───\n",
              "«       │   ░   │  └───┘  │  └─┬─┘ ░  ║  ║  ║ └╥┘   \n",
              "«c_0: ──┼───░───┼─────────┼────┼───░──╫──╫──╫──╫────\n",
              "«       │   ░   │         │    │   ░  ║  ║  ║  ║    \n",
              "«c_1: ──┼───░───┼─────────┼────┼───░──╫──╫──╫──╫────\n",
              "«       │   ░   │         │    │   ░  ║  ║  ║  ║    \n",
              "«c_2: ──■───░───┼─────────┼────┼───░──╫──╫──╫──╫────\n",
              "«           ░   │         │    │   ░  ║  ║  ║  ║    \n",
              "«c_3: ──────░───┼─────────■────■───░──╫──╫──╫──╫────\n",
              "«           ░ ┌─┴─┐     ┌─┴─┐      ░  ║  ║  ║  ║ ┌─┐\n",
              "«c_4: ──────░─┤ X ├─────┤ X ├──────░──╫──╫──╫──╫─┤M├\n",
              "«           ░ └───┘     └───┘      ░  ║  ║  ║  ║ └╥┘\n",
              "«s: 5/════════════════════════════════╩══╩══╩══╩══╩═\n",
              "«                                     0  1  2  3  4 </pre>"
            ],
            "text/plain": [
              "                                    ░                      ░                »\n",
              "a_0: ────────────■────■─────────────░──────────────────────░────────────────»\n",
              "     ┌───┐       │    │             ░                      ░                »\n",
              "a_1: ┤ X ├───────┼────┼─────────────░───■────■─────────────░────────────────»\n",
              "     ├───┤       │    │             ░   │    │             ░                »\n",
              "a_2: ┤ H ├──■────┼────┼─────────────░───┼────┼─────────────░───■────■───────»\n",
              "     └───┘  │    │    │             ░   │    │             ░   │    │       »\n",
              "a_3: ───────┼────┼────┼─────────────░───┼────┼─────────────░───┼────┼───────»\n",
              "     ┌───┐  │    │  ┌─┴─┐     ┌───┐ ░   │    │             ░   │    │       »\n",
              "b_0: ┤ X ├──┼────■──┤ X ├──■──┤ X ├─░───┼────┼─────────────░───┼────┼───────»\n",
              "     ├───┤  │    │  └───┘  │  └─┬─┘ ░   │  ┌─┴─┐     ┌───┐ ░   │    │       »\n",
              "b_1: ┤ X ├──┼────┼─────────┼────┼───░───■──┤ X ├──■──┤ X ├─░───┼────┼───────»\n",
              "     └───┘┌─┴─┐  │         │    │   ░   │  └───┘  │  └─┬─┘ ░   │  ┌─┴─┐     »\n",
              "b_2: ─────┤ X ├──┼─────────┼────┼───░───┼─────────┼────┼───░───■──┤ X ├──■──»\n",
              "     ┌───┐└───┘  │         │    │   ░   │         │    │   ░   │  └───┘  │  »\n",
              "b_3: ┤ X ├───────┼─────────┼────┼───░───┼─────────┼────┼───░───┼─────────┼──»\n",
              "     └───┘       │         │    │   ░   │         │    │   ░   │         │  »\n",
              "c_0: ────────────┼─────────■────■───░───┼─────────┼────┼───░───┼─────────┼──»\n",
              "               ┌─┴─┐     ┌─┴─┐      ░   │         │    │   ░   │         │  »\n",
              "c_1: ──────────┤ X ├─────┤ X ├──────░───┼─────────■────■───░───┼─────────┼──»\n",
              "               └───┘     └───┘      ░ ┌─┴─┐     ┌─┴─┐      ░   │         │  »\n",
              "c_2: ───────────────────────────────░─┤ X ├─────┤ X ├──────░───┼─────────■──»\n",
              "                                    ░ └───┘     └───┘      ░ ┌─┴─┐     ┌─┴─┐»\n",
              "c_3: ───────────────────────────────░──────────────────────░─┤ X ├─────┤ X ├»\n",
              "                                    ░                      ░ └───┘     └───┘»\n",
              "c_4: ───────────────────────────────░──────────────────────░────────────────»\n",
              "                                    ░                      ░                »\n",
              "s: 5/═══════════════════════════════════════════════════════════════════════»\n",
              "                                                                            »\n",
              "«           ░                      ░                \n",
              "«a_0: ──────░──────────────────────░────────────────\n",
              "«           ░                      ░                \n",
              "«a_1: ──────░──────────────────────░────────────────\n",
              "«           ░                      ░                \n",
              "«a_2: ──────░──────────────────────░────────────────\n",
              "«           ░                      ░                \n",
              "«a_3: ──────░───■────■─────────────░────────────────\n",
              "«           ░   │    │             ░ ┌─┐            \n",
              "«b_0: ──────░───┼────┼─────────────░─┤M├────────────\n",
              "«           ░   │    │             ░ └╥┘┌─┐         \n",
              "«b_1: ──────░───┼────┼─────────────░──╫─┤M├─────────\n",
              "«     ┌───┐ ░   │    │             ░  ║ └╥┘┌─┐      \n",
              "«b_2: ┤ X ├─░───┼────┼─────────────░──╫──╫─┤M├──────\n",
              "«     └─┬─┘ ░   │  ┌─┴─┐     ┌───┐ ░  ║  ║ └╥┘┌─┐   \n",
              "«b_3: ──┼───░───■──┤ X ├──■──┤ X ├─░──╫──╫──╫─┤M├───\n",
              "«       │   ░   │  └───┘  │  └─┬─┘ ░  ║  ║  ║ └╥┘   \n",
              "«c_0: ──┼───░───┼─────────┼────┼───░──╫──╫──╫──╫────\n",
              "«       │   ░   │         │    │   ░  ║  ║  ║  ║    \n",
              "«c_1: ──┼───░───┼─────────┼────┼───░──╫──╫──╫──╫────\n",
              "«       │   ░   │         │    │   ░  ║  ║  ║  ║    \n",
              "«c_2: ──■───░───┼─────────┼────┼───░──╫──╫──╫──╫────\n",
              "«           ░   │         │    │   ░  ║  ║  ║  ║    \n",
              "«c_3: ──────░───┼─────────■────■───░──╫──╫──╫──╫────\n",
              "«           ░ ┌─┴─┐     ┌─┴─┐      ░  ║  ║  ║  ║ ┌─┐\n",
              "«c_4: ──────░─┤ X ├─────┤ X ├──────░──╫──╫──╫──╫─┤M├\n",
              "«           ░ └───┘     └───┘      ░  ║  ║  ║  ║ └╥┘\n",
              "«s: 5/════════════════════════════════╩══╩══╩══╩══╩═\n",
              "«                                     0  1  2  3  4 "
            ]
          },
          "execution_count": 33,
          "metadata": {},
          "output_type": "execute_result"
        }
      ],
      "source": [
        "#implementing full adder for each single qubit of the quantum register\n",
        "for i in range(4):\n",
        "  full_Adder(c[i],a[i],b[i],c[i+1],circuit)\n",
        "circuit.measure(b[0],s[0])\n",
        "circuit.measure(b[1],s[1])\n",
        "circuit.measure(b[2],s[2])\n",
        "circuit.measure(b[3],s[3])\n",
        "circuit.measure(c[4],s[4])\n",
        "circuit.draw()\n"
      ]
    },
    {
      "cell_type": "markdown",
      "metadata": {
        "id": "QofGaNLO2nlT"
      },
      "source": [
        "Here the entangled state leads to the two qubits to be in the entangled state (|00>+|11>)/sqrt(2) i.e (b,a)=(0,0) or (1,1) with equal probability of 0.5, these two cases generate different result, hence we get two different results."
      ]
    },
    {
      "cell_type": "code",
      "execution_count": null,
      "metadata": {
        "colab": {
          "base_uri": "https://localhost:8080/",
          "height": 514
        },
        "id": "iUyAwbzqhgJG",
        "outputId": "9152dc14-b56d-494e-f85c-d3e46e853336"
      },
      "outputs": [
        {
          "name": "stdout",
          "output_type": "stream",
          "text": [
            "{'01101': 4988, '10101': 5012}\n"
          ]
        },
        {
          "data": {
            "image/png": "[encoded data removed]",
            "text/plain": [
              "<Figure size 700x500 with 1 Axes>"
            ]
          },
          "execution_count": 34,
          "metadata": {},
          "output_type": "execute_result"
        }
      ],
      "source": [
        "from qiskit.visualization import plot_histogram\n",
        "simulator=Aer.get_backend('qasm_simulator')\n",
        "count=execute(circuit,backend=simulator,shots=10000).result().get_counts()\n",
        "print(count)\n",
        "plot_histogram(count)"
      ]
    },
    {
      "cell_type": "code",
      "execution_count": null,
      "metadata": {
        "colab": {
          "base_uri": "https://localhost:8080/",
          "height": 464
        },
        "id": "-lwNRdwghhTE",
        "outputId": "e3893dfc-843e-49f8-8a39-8cca277c0abc"
      },
      "outputs": [
        {
          "data": {
            "text/html": [
              "<pre style=\"word-wrap: normal;white-space: pre;background: #fff0;line-height: 1.1;font-family: &quot;Courier New&quot;,Courier,monospace\">     \n",
              "a_0: \n",
              "     \n",
              "a_1: \n",
              "     \n",
              "a_2: \n",
              "     \n",
              "a_3: \n",
              "     \n",
              "b_0: \n",
              "     \n",
              "b_1: \n",
              "     \n",
              "b_2: \n",
              "     \n",
              "b_3: \n",
              "     \n",
              "c_0: \n",
              "     \n",
              "c_1: \n",
              "     \n",
              "c_2: \n",
              "     \n",
              "c_3: \n",
              "     \n",
              "c_4: \n",
              "     \n",
              "s: 5/\n",
              "     </pre>"
            ],
            "text/plain": [
              "     \n",
              "a_0: \n",
              "     \n",
              "a_1: \n",
              "     \n",
              "a_2: \n",
              "     \n",
              "a_3: \n",
              "     \n",
              "b_0: \n",
              "     \n",
              "b_1: \n",
              "     \n",
              "b_2: \n",
              "     \n",
              "b_3: \n",
              "     \n",
              "c_0: \n",
              "     \n",
              "c_1: \n",
              "     \n",
              "c_2: \n",
              "     \n",
              "c_3: \n",
              "     \n",
              "c_4: \n",
              "     \n",
              "s: 5/\n",
              "     "
            ]
          },
          "execution_count": 35,
          "metadata": {},
          "output_type": "execute_result"
        }
      ],
      "source": [
        "circuit.clear()\n",
        "circuit.draw()"
      ]
    },
    {
      "cell_type": "markdown",
      "metadata": {
        "id": "OMghcdg53mX-"
      },
      "source": [
        "Now, complicating it further let |a>=0001 and |b>=0011 and entangling every corresponding qubit of the two registers, i.e a[0] entangled with b[0] and so on"
      ]
    },
    {
      "cell_type": "code",
      "execution_count": null,
      "metadata": {
        "colab": {
          "base_uri": "https://localhost:8080/",
          "height": 464
        },
        "id": "eLSjTpkFhut9",
        "outputId": "bfca548f-4283-4486-8956-682f4d416367"
      },
      "outputs": [
        {
          "data": {
            "text/html": [
              "<pre style=\"word-wrap: normal;white-space: pre;background: #fff0;line-height: 1.1;font-family: &quot;Courier New&quot;,Courier,monospace\">     ┌───┐\n",
              "a_0: ┤ X ├\n",
              "     └───┘\n",
              "a_1: ─────\n",
              "          \n",
              "a_2: ─────\n",
              "          \n",
              "a_3: ─────\n",
              "     ┌───┐\n",
              "b_0: ┤ X ├\n",
              "     ├───┤\n",
              "b_1: ┤ X ├\n",
              "     └───┘\n",
              "b_2: ─────\n",
              "          \n",
              "b_3: ─────\n",
              "          \n",
              "c_0: ─────\n",
              "          \n",
              "c_1: ─────\n",
              "          \n",
              "c_2: ─────\n",
              "          \n",
              "c_3: ─────\n",
              "          \n",
              "c_4: ─────\n",
              "          \n",
              "s: 5/═════\n",
              "          </pre>"
            ],
            "text/plain": [
              "     ┌───┐\n",
              "a_0: ┤ X ├\n",
              "     └───┘\n",
              "a_1: ─────\n",
              "          \n",
              "a_2: ─────\n",
              "          \n",
              "a_3: ─────\n",
              "     ┌───┐\n",
              "b_0: ┤ X ├\n",
              "     ├───┤\n",
              "b_1: ┤ X ├\n",
              "     └───┘\n",
              "b_2: ─────\n",
              "          \n",
              "b_3: ─────\n",
              "          \n",
              "c_0: ─────\n",
              "          \n",
              "c_1: ─────\n",
              "          \n",
              "c_2: ─────\n",
              "          \n",
              "c_3: ─────\n",
              "          \n",
              "c_4: ─────\n",
              "          \n",
              "s: 5/═════\n",
              "          "
            ]
          },
          "execution_count": 36,
          "metadata": {},
          "output_type": "execute_result"
        }
      ],
      "source": [
        "circuit.x(a[0])\n",
        "circuit.x(b[0])\n",
        "circuit.x(b[1])\n",
        "circuit.draw()"
      ]
    },
    {
      "cell_type": "code",
      "execution_count": null,
      "metadata": {
        "colab": {
          "base_uri": "https://localhost:8080/",
          "height": 464
        },
        "id": "Dk5DJkE2hMZD",
        "outputId": "d11f2d5a-4dbf-4209-ea9b-409a6c4aee47"
      },
      "outputs": [
        {
          "data": {
            "text/html": [
              "<pre style=\"word-wrap: normal;white-space: pre;background: #fff0;line-height: 1.1;font-family: &quot;Courier New&quot;,Courier,monospace\">     ┌───┐┌───┐               \n",
              "a_0: ┤ X ├┤ H ├────────────■──\n",
              "     ├───┤└───┘            │  \n",
              "a_1: ┤ H ├──■──────────────┼──\n",
              "     ├───┤  │              │  \n",
              "a_2: ┤ H ├──┼────■─────────┼──\n",
              "     ├───┤  │    │         │  \n",
              "a_3: ┤ H ├──┼────┼────■────┼──\n",
              "     ├───┤  │    │    │  ┌─┴─┐\n",
              "b_0: ┤ X ├──┼────┼────┼──┤ X ├\n",
              "     ├───┤┌─┴─┐  │    │  └───┘\n",
              "b_1: ┤ X ├┤ X ├──┼────┼───────\n",
              "     └───┘└───┘┌─┴─┐  │       \n",
              "b_2: ──────────┤ X ├──┼───────\n",
              "               └───┘┌─┴─┐     \n",
              "b_3: ───────────────┤ X ├─────\n",
              "                    └───┘     \n",
              "c_0: ─────────────────────────\n",
              "                              \n",
              "c_1: ─────────────────────────\n",
              "                              \n",
              "c_2: ─────────────────────────\n",
              "                              \n",
              "c_3: ─────────────────────────\n",
              "                              \n",
              "c_4: ─────────────────────────\n",
              "                              \n",
              "s: 5/═════════════════════════\n",
              "                              </pre>"
            ],
            "text/plain": [
              "     ┌───┐┌───┐               \n",
              "a_0: ┤ X ├┤ H ├────────────■──\n",
              "     ├───┤└───┘            │  \n",
              "a_1: ┤ H ├──■──────────────┼──\n",
              "     ├───┤  │              │  \n",
              "a_2: ┤ H ├──┼────■─────────┼──\n",
              "     ├───┤  │    │         │  \n",
              "a_3: ┤ H ├──┼────┼────■────┼──\n",
              "     ├───┤  │    │    │  ┌─┴─┐\n",
              "b_0: ┤ X ├──┼────┼────┼──┤ X ├\n",
              "     ├───┤┌─┴─┐  │    │  └───┘\n",
              "b_1: ┤ X ├┤ X ├──┼────┼───────\n",
              "     └───┘└───┘┌─┴─┐  │       \n",
              "b_2: ──────────┤ X ├──┼───────\n",
              "               └───┘┌─┴─┐     \n",
              "b_3: ───────────────┤ X ├─────\n",
              "                    └───┘     \n",
              "c_0: ─────────────────────────\n",
              "                              \n",
              "c_1: ─────────────────────────\n",
              "                              \n",
              "c_2: ─────────────────────────\n",
              "                              \n",
              "c_3: ─────────────────────────\n",
              "                              \n",
              "c_4: ─────────────────────────\n",
              "                              \n",
              "s: 5/═════════════════════════\n",
              "                              "
            ]
          },
          "execution_count": 37,
          "metadata": {},
          "output_type": "execute_result"
        }
      ],
      "source": [
        "for i in range(4):\n",
        "  circuit.h(a[i])\n",
        "  circuit.cx(a[i],b[i])\n",
        "circuit.draw()"
      ]
    },
    {
      "cell_type": "code",
      "execution_count": null,
      "metadata": {
        "colab": {
          "base_uri": "https://localhost:8080/",
          "height": 910
        },
        "id": "eWakMQy7hUxw",
        "outputId": "ee093277-3447-48b4-a53f-bd7e9cc83ab8"
      },
      "outputs": [
        {
          "data": {
            "text/html": [
              "<pre style=\"word-wrap: normal;white-space: pre;background: #fff0;line-height: 1.1;font-family: &quot;Courier New&quot;,Courier,monospace\">     ┌───┐┌───┐                                    ░                      ░ »\n",
              "a_0: ┤ X ├┤ H ├────────────■────■────■─────────────░──────────────────────░─»\n",
              "     ├───┤└───┘            │    │    │             ░                      ░ »\n",
              "a_1: ┤ H ├──■──────────────┼────┼────┼─────────────░───■────■─────────────░─»\n",
              "     ├───┤  │              │    │    │             ░   │    │             ░ »\n",
              "a_2: ┤ H ├──┼────■─────────┼────┼────┼─────────────░───┼────┼─────────────░─»\n",
              "     ├───┤  │    │         │    │    │             ░   │    │             ░ »\n",
              "a_3: ┤ H ├──┼────┼────■────┼────┼────┼─────────────░───┼────┼─────────────░─»\n",
              "     ├───┤  │    │    │  ┌─┴─┐  │  ┌─┴─┐     ┌───┐ ░   │    │             ░ »\n",
              "b_0: ┤ X ├──┼────┼────┼──┤ X ├──■──┤ X ├──■──┤ X ├─░───┼────┼─────────────░─»\n",
              "     ├───┤┌─┴─┐  │    │  └───┘  │  └───┘  │  └─┬─┘ ░   │  ┌─┴─┐     ┌───┐ ░ »\n",
              "b_1: ┤ X ├┤ X ├──┼────┼─────────┼─────────┼────┼───░───■──┤ X ├──■──┤ X ├─░─»\n",
              "     └───┘└───┘┌─┴─┐  │         │         │    │   ░   │  └───┘  │  └─┬─┘ ░ »\n",
              "b_2: ──────────┤ X ├──┼─────────┼─────────┼────┼───░───┼─────────┼────┼───░─»\n",
              "               └───┘┌─┴─┐       │         │    │   ░   │         │    │   ░ »\n",
              "b_3: ───────────────┤ X ├───────┼─────────┼────┼───░───┼─────────┼────┼───░─»\n",
              "                    └───┘       │         │    │   ░   │         │    │   ░ »\n",
              "c_0: ───────────────────────────┼─────────■────■───░───┼─────────┼────┼───░─»\n",
              "                              ┌─┴─┐     ┌─┴─┐      ░   │         │    │   ░ »\n",
              "c_1: ─────────────────────────┤ X ├─────┤ X ├──────░───┼─────────■────■───░─»\n",
              "                              └───┘     └───┘      ░ ┌─┴─┐     ┌─┴─┐      ░ »\n",
              "c_2: ──────────────────────────────────────────────░─┤ X ├─────┤ X ├──────░─»\n",
              "                                                   ░ └───┘     └───┘      ░ »\n",
              "c_3: ──────────────────────────────────────────────░──────────────────────░─»\n",
              "                                                   ░                      ░ »\n",
              "c_4: ──────────────────────────────────────────────░──────────────────────░─»\n",
              "                                                   ░                      ░ »\n",
              "s: 5/═══════════════════════════════════════════════════════════════════════»\n",
              "                                                                            »\n",
              "«                          ░                      ░                \n",
              "«a_0: ─────────────────────░──────────────────────░────────────────\n",
              "«                          ░                      ░                \n",
              "«a_1: ─────────────────────░──────────────────────░────────────────\n",
              "«                          ░                      ░                \n",
              "«a_2: ──■────■─────────────░──────────────────────░────────────────\n",
              "«       │    │             ░                      ░                \n",
              "«a_3: ──┼────┼─────────────░───■────■─────────────░────────────────\n",
              "«       │    │             ░   │    │             ░ ┌─┐            \n",
              "«b_0: ──┼────┼─────────────░───┼────┼─────────────░─┤M├────────────\n",
              "«       │    │             ░   │    │             ░ └╥┘┌─┐         \n",
              "«b_1: ──┼────┼─────────────░───┼────┼─────────────░──╫─┤M├─────────\n",
              "«       │  ┌─┴─┐     ┌───┐ ░   │    │             ░  ║ └╥┘┌─┐      \n",
              "«b_2: ──■──┤ X ├──■──┤ X ├─░───┼────┼─────────────░──╫──╫─┤M├──────\n",
              "«       │  └───┘  │  └─┬─┘ ░   │  ┌─┴─┐     ┌───┐ ░  ║  ║ └╥┘┌─┐   \n",
              "«b_3: ──┼─────────┼────┼───░───■──┤ X ├──■──┤ X ├─░──╫──╫──╫─┤M├───\n",
              "«       │         │    │   ░   │  └───┘  │  └─┬─┘ ░  ║  ║  ║ └╥┘   \n",
              "«c_0: ──┼─────────┼────┼───░───┼─────────┼────┼───░──╫──╫──╫──╫────\n",
              "«       │         │    │   ░   │         │    │   ░  ║  ║  ║  ║    \n",
              "«c_1: ──┼─────────┼────┼───░───┼─────────┼────┼───░──╫──╫──╫──╫────\n",
              "«       │         │    │   ░   │         │    │   ░  ║  ║  ║  ║    \n",
              "«c_2: ──┼─────────■────■───░───┼─────────┼────┼───░──╫──╫──╫──╫────\n",
              "«     ┌─┴─┐     ┌─┴─┐      ░   │         │    │   ░  ║  ║  ║  ║    \n",
              "«c_3: ┤ X ├─────┤ X ├──────░───┼─────────■────■───░──╫──╫──╫──╫────\n",
              "«     └───┘     └───┘      ░ ┌─┴─┐     ┌─┴─┐      ░  ║  ║  ║  ║ ┌─┐\n",
              "«c_4: ─────────────────────░─┤ X ├─────┤ X ├──────░──╫──╫──╫──╫─┤M├\n",
              "«                          ░ └───┘     └───┘      ░  ║  ║  ║  ║ └╥┘\n",
              "«s: 5/═══════════════════════════════════════════════╩══╩══╩══╩══╩═\n",
              "«                                                    0  1  2  3  4 </pre>"
            ],
            "text/plain": [
              "     ┌───┐┌───┐                                    ░                      ░ »\n",
              "a_0: ┤ X ├┤ H ├────────────■────■────■─────────────░──────────────────────░─»\n",
              "     ├───┤└───┘            │    │    │             ░                      ░ »\n",
              "a_1: ┤ H ├──■──────────────┼────┼────┼─────────────░───■────■─────────────░─»\n",
              "     ├───┤  │              │    │    │             ░   │    │             ░ »\n",
              "a_2: ┤ H ├──┼────■─────────┼────┼────┼─────────────░───┼────┼─────────────░─»\n",
              "     ├───┤  │    │         │    │    │             ░   │    │             ░ »\n",
              "a_3: ┤ H ├──┼────┼────■────┼────┼────┼─────────────░───┼────┼─────────────░─»\n",
              "     ├───┤  │    │    │  ┌─┴─┐  │  ┌─┴─┐     ┌───┐ ░   │    │             ░ »\n",
              "b_0: ┤ X ├──┼────┼────┼──┤ X ├──■──┤ X ├──■──┤ X ├─░───┼────┼─────────────░─»\n",
              "     ├───┤┌─┴─┐  │    │  └───┘  │  └───┘  │  └─┬─┘ ░   │  ┌─┴─┐     ┌───┐ ░ »\n",
              "b_1: ┤ X ├┤ X ├──┼────┼─────────┼─────────┼────┼───░───■──┤ X ├──■──┤ X ├─░─»\n",
              "     └───┘└───┘┌─┴─┐  │         │         │    │   ░   │  └───┘  │  └─┬─┘ ░ »\n",
              "b_2: ──────────┤ X ├──┼─────────┼─────────┼────┼───░───┼─────────┼────┼───░─»\n",
              "               └───┘┌─┴─┐       │         │    │   ░   │         │    │   ░ »\n",
              "b_3: ───────────────┤ X ├───────┼─────────┼────┼───░───┼─────────┼────┼───░─»\n",
              "                    └───┘       │         │    │   ░   │         │    │   ░ »\n",
              "c_0: ───────────────────────────┼─────────■────■───░───┼─────────┼────┼───░─»\n",
              "                              ┌─┴─┐     ┌─┴─┐      ░   │         │    │   ░ »\n",
              "c_1: ─────────────────────────┤ X ├─────┤ X ├──────░───┼─────────■────■───░─»\n",
              "                              └───┘     └───┘      ░ ┌─┴─┐     ┌─┴─┐      ░ »\n",
              "c_2: ──────────────────────────────────────────────░─┤ X ├─────┤ X ├──────░─»\n",
              "                                                   ░ └───┘     └───┘      ░ »\n",
              "c_3: ──────────────────────────────────────────────░──────────────────────░─»\n",
              "                                                   ░                      ░ »\n",
              "c_4: ──────────────────────────────────────────────░──────────────────────░─»\n",
              "                                                   ░                      ░ »\n",
              "s: 5/═══════════════════════════════════════════════════════════════════════»\n",
              "                                                                            »\n",
              "«                          ░                      ░                \n",
              "«a_0: ─────────────────────░──────────────────────░────────────────\n",
              "«                          ░                      ░                \n",
              "«a_1: ─────────────────────░──────────────────────░────────────────\n",
              "«                          ░                      ░                \n",
              "«a_2: ──■────■─────────────░──────────────────────░────────────────\n",
              "«       │    │             ░                      ░                \n",
              "«a_3: ──┼────┼─────────────░───■────■─────────────░────────────────\n",
              "«       │    │             ░   │    │             ░ ┌─┐            \n",
              "«b_0: ──┼────┼─────────────░───┼────┼─────────────░─┤M├────────────\n",
              "«       │    │             ░   │    │             ░ └╥┘┌─┐         \n",
              "«b_1: ──┼────┼─────────────░───┼────┼─────────────░──╫─┤M├─────────\n",
              "«       │  ┌─┴─┐     ┌───┐ ░   │    │             ░  ║ └╥┘┌─┐      \n",
              "«b_2: ──■──┤ X ├──■──┤ X ├─░───┼────┼─────────────░──╫──╫─┤M├──────\n",
              "«       │  └───┘  │  └─┬─┘ ░   │  ┌─┴─┐     ┌───┐ ░  ║  ║ └╥┘┌─┐   \n",
              "«b_3: ──┼─────────┼────┼───░───■──┤ X ├──■──┤ X ├─░──╫──╫──╫─┤M├───\n",
              "«       │         │    │   ░   │  └───┘  │  └─┬─┘ ░  ║  ║  ║ └╥┘   \n",
              "«c_0: ──┼─────────┼────┼───░───┼─────────┼────┼───░──╫──╫──╫──╫────\n",
              "«       │         │    │   ░   │         │    │   ░  ║  ║  ║  ║    \n",
              "«c_1: ──┼─────────┼────┼───░───┼─────────┼────┼───░──╫──╫──╫──╫────\n",
              "«       │         │    │   ░   │         │    │   ░  ║  ║  ║  ║    \n",
              "«c_2: ──┼─────────■────■───░───┼─────────┼────┼───░──╫──╫──╫──╫────\n",
              "«     ┌─┴─┐     ┌─┴─┐      ░   │         │    │   ░  ║  ║  ║  ║    \n",
              "«c_3: ┤ X ├─────┤ X ├──────░───┼─────────■────■───░──╫──╫──╫──╫────\n",
              "«     └───┘     └───┘      ░ ┌─┴─┐     ┌─┴─┐      ░  ║  ║  ║  ║ ┌─┐\n",
              "«c_4: ─────────────────────░─┤ X ├─────┤ X ├──────░──╫──╫──╫──╫─┤M├\n",
              "«                          ░ └───┘     └───┘      ░  ║  ║  ║  ║ └╥┘\n",
              "«s: 5/═══════════════════════════════════════════════╩══╩══╩══╩══╩═\n",
              "«                                                    0  1  2  3  4 "
            ]
          },
          "execution_count": 38,
          "metadata": {},
          "output_type": "execute_result"
        }
      ],
      "source": [
        "#implementing full adder for each single qubit of the quantum register\n",
        "for i in range(4):\n",
        "  full_Adder(c[i],a[i],b[i],c[i+1],circuit)\n",
        "circuit.measure(b[0],s[0])\n",
        "circuit.measure(b[1],s[1])\n",
        "circuit.measure(b[2],s[2])\n",
        "circuit.measure(b[3],s[3])\n",
        "circuit.measure(c[4],s[4])\n",
        "circuit.draw()\n"
      ]
    },
    {
      "cell_type": "code",
      "execution_count": null,
      "metadata": {
        "colab": {
          "base_uri": "https://localhost:8080/",
          "height": 514
        },
        "id": "3WMqe29Ch7Ub",
        "outputId": "f1925e81-c178-4fdb-c455-b7c690e425b6"
      },
      "outputs": [
        {
          "name": "stdout",
          "output_type": "stream",
          "text": [
            "{'11011': 2530, '01011': 2499, '00011': 2436, '10011': 2535}\n"
          ]
        },
        {
          "data": {
            "image/png": "[encoded data removed]",
            "text/plain": [
              "<Figure size 700x500 with 1 Axes>"
            ]
          },
          "execution_count": 39,
          "metadata": {},
          "output_type": "execute_result"
        }
      ],
      "source": [
        "simulator=Aer.get_backend('qasm_simulator')\n",
        "count=execute(circuit,backend=simulator,shots=10000).result().get_counts()\n",
        "print(count)\n",
        "from qiskit.visualization import plot_histogram\n",
        "plot_histogram(count)"
      ]
    },
    {
      "cell_type": "code",
      "execution_count": null,
      "metadata": {
        "colab": {
          "base_uri": "https://localhost:8080/",
          "height": 464
        },
        "id": "XullZZswh8jl",
        "outputId": "4c7300d6-db30-40a7-a085-8867708faf2c"
      },
      "outputs": [
        {
          "data": {
            "text/html": [
              "<pre style=\"word-wrap: normal;white-space: pre;background: #fff0;line-height: 1.1;font-family: &quot;Courier New&quot;,Courier,monospace\">     \n",
              "a_0: \n",
              "     \n",
              "a_1: \n",
              "     \n",
              "a_2: \n",
              "     \n",
              "a_3: \n",
              "     \n",
              "b_0: \n",
              "     \n",
              "b_1: \n",
              "     \n",
              "b_2: \n",
              "     \n",
              "b_3: \n",
              "     \n",
              "c_0: \n",
              "     \n",
              "c_1: \n",
              "     \n",
              "c_2: \n",
              "     \n",
              "c_3: \n",
              "     \n",
              "c_4: \n",
              "     \n",
              "s: 5/\n",
              "     </pre>"
            ],
            "text/plain": [
              "     \n",
              "a_0: \n",
              "     \n",
              "a_1: \n",
              "     \n",
              "a_2: \n",
              "     \n",
              "a_3: \n",
              "     \n",
              "b_0: \n",
              "     \n",
              "b_1: \n",
              "     \n",
              "b_2: \n",
              "     \n",
              "b_3: \n",
              "     \n",
              "c_0: \n",
              "     \n",
              "c_1: \n",
              "     \n",
              "c_2: \n",
              "     \n",
              "c_3: \n",
              "     \n",
              "c_4: \n",
              "     \n",
              "s: 5/\n",
              "     "
            ]
          },
          "execution_count": 40,
          "metadata": {},
          "output_type": "execute_result"
        }
      ],
      "source": [
        "circuit.clear()\n",
        "circuit.draw()"
      ]
    },
    {
      "cell_type": "markdown",
      "metadata": {
        "id": "qgH6r1pDSt_Q"
      },
      "source": [
        "CARRY-LOOK AHEAD ADDER"
      ]
    },
    {
      "cell_type": "code",
      "execution_count": null,
      "metadata": {
        "id": "ZzjLm2zWx2yL"
      },
      "outputs": [],
      "source": [
        "g=QuantumRegister(4,'g')#adding a register to circuit to store values of carry generator i.e a.b\n",
        "p=QuantumRegister(4,'p')#adding a register to circuit to store values of carry propagator i.e a xor b\n",
        "bfr=QuantumRegister(3,'bfr')# adding three buffer qubits to store some additonal values\n",
        "circuit.add_register(g)\n",
        "circuit.add_register(p)\n",
        "circuit.add_register(bfr)"
      ]
    },
    {
      "cell_type": "code",
      "execution_count": null,
      "metadata": {
        "id": "2hBVQxkcSxrK"
      },
      "outputs": [],
      "source": [
        "\n",
        "def carry_Lookahead_Adder(circuit):\n",
        "  for i in range(4):\n",
        "    circuit.ccx(a[i],b[i],g[i])# storing the value of carry generator\n",
        "    circuit.cx(a[i],b[i])#b=a xor b\n",
        "    circuit.cx(b[i],p[i])# storiung the value of carry propagator\n",
        "    circuit.cx(g[i],c[i])#c=c xor g since c=0 so c=g=a.b\n",
        "\n",
        "  # for rightmost value of final answer value is already stored in b[0] and carry generated from rightmost qubit is stored in c[0]\n",
        "  circuit.ccx(p[1],g[0],c[1])#c[1]=c[1] xor p[1].g[0] hence c[1]=a[1].b[1] xor p[1].g[0] which is the second carry\n",
        "  circuit.cx(c[0],b[1])#b[1]=a[1] xor b[1] xor c[1] which gives us the second qubit from right of the final answer\n",
        "\n",
        "  circuit.ccx(p[1],p[0],bfr[0])#bfr[0]=p[1].p[0]\n",
        "  circuit.ccx(p[2],g[1],c[2])#c[2]=c[2] xor p[2].g[1] hence c[2]=a[2].b[2] xor p[2].g[1]\n",
        "  circuit.ccx(bfr[0],g[0],c[2])#c[2]=c[2] xor bfr[0].g[0] hence c[2]=a[2].b[2] xor p[2].g[1] xor p[1].p[0].g[0] which is the second carry\n",
        "  circuit.cx(c[1],b[2])#b[2]=a[2] xor b[2] xor c[1] which gives us the third qubit from right of the final answer\n",
        "\n",
        "  circuit.ccx(p[3],p[2],bfr[1])#bfr[1]=bfr[1] xor p[3].p[2] since initially bfr[1]=0 so bfr[1]=p[3].p[2]\n",
        "  circuit.ccx(bfr[1],p[1],bfr[2])#bfr[2]=bfr[2] xor bfr[1].p[1] which implies bfr[2]=p[3].p[2].p[1]\n",
        "  circuit.ccx(p[3],g[2],c[3])#c[3]=c[3] xor p[3].g[2] which implies c[3]=a[3].b[3] xor p[3].g[2]\n",
        "  circuit.ccx(bfr[1],g[1],c[3])#c[3]=a[3].b[3] xor p[3].g[2] xor bfr[1].g[1] which implies c[3]=a[3].b[3] xor p[3].g[2] xor p[3].p[2].g[1]\n",
        "  circuit.ccx(bfr[2],g[0],c[3])#c[3]=a[3].b[3] xor p[3].g[2] xor p[3].p[2].g[1] xor bfr[2].g[0] which implies c[3]=a[3].b[3] xor p[3].g[2] xor p[3].p[2].g[1] xor bfr[2]=p[3].p[2].p[1].g[0]\n",
        "  circuit.cx(c[2],b[3])#b[3]=a[3] xor b[3] xor c[2] which gives us the fourth qubit from right of the final answer\n",
        "\n",
        "  #Measuring the qubits\n",
        "  circuit.measure(b[0],s[0])\n",
        "  circuit.measure(b[1],s[1])\n",
        "  circuit.measure(b[2],s[2])\n",
        "  circuit.measure(b[3],s[3])\n",
        "  circuit.measure(c[4],s[4])\n",
        "\n",
        "\n",
        "\n",
        "\n",
        "\n",
        "\n"
      ]
    },
    {
      "cell_type": "markdown",
      "metadata": {
        "id": "BwFaVPXjc0AE"
      },
      "source": [
        "CASE 1-> a=|0010> b=|1011>"
      ]
    },
    {
      "cell_type": "code",
      "execution_count": null,
      "metadata": {
        "colab": {
          "base_uri": "https://localhost:8080/",
          "height": 802
        },
        "id": "22C3L6xvVllX",
        "outputId": "adacd82b-df6d-4804-937d-cfbf0ffdcde7"
      },
      "outputs": [
        {
          "data": {
            "text/html": [
              "<pre style=\"word-wrap: normal;white-space: pre;background: #fff0;line-height: 1.1;font-family: &quot;Courier New&quot;,Courier,monospace\">            \n",
              "  a_0: ─────\n",
              "       ┌───┐\n",
              "  a_1: ┤ X ├\n",
              "       └───┘\n",
              "  a_2: ─────\n",
              "            \n",
              "  a_3: ─────\n",
              "       ┌───┐\n",
              "  b_0: ┤ X ├\n",
              "       ├───┤\n",
              "  b_1: ┤ X ├\n",
              "       └───┘\n",
              "  b_2: ─────\n",
              "       ┌───┐\n",
              "  b_3: ┤ X ├\n",
              "       └───┘\n",
              "  c_0: ─────\n",
              "            \n",
              "  c_1: ─────\n",
              "            \n",
              "  c_2: ─────\n",
              "            \n",
              "  c_3: ─────\n",
              "            \n",
              "  c_4: ─────\n",
              "            \n",
              "  g_0: ─────\n",
              "            \n",
              "  g_1: ─────\n",
              "            \n",
              "  g_2: ─────\n",
              "            \n",
              "  g_3: ─────\n",
              "            \n",
              "  p_0: ─────\n",
              "            \n",
              "  p_1: ─────\n",
              "            \n",
              "  p_2: ─────\n",
              "            \n",
              "  p_3: ─────\n",
              "            \n",
              "bfr_0: ─────\n",
              "            \n",
              "bfr_1: ─────\n",
              "            \n",
              "bfr_2: ─────\n",
              "            \n",
              "  s: 5/═════\n",
              "            </pre>"
            ],
            "text/plain": [
              "            \n",
              "  a_0: ─────\n",
              "       ┌───┐\n",
              "  a_1: ┤ X ├\n",
              "       └───┘\n",
              "  a_2: ─────\n",
              "            \n",
              "  a_3: ─────\n",
              "       ┌───┐\n",
              "  b_0: ┤ X ├\n",
              "       ├───┤\n",
              "  b_1: ┤ X ├\n",
              "       └───┘\n",
              "  b_2: ─────\n",
              "       ┌───┐\n",
              "  b_3: ┤ X ├\n",
              "       └───┘\n",
              "  c_0: ─────\n",
              "            \n",
              "  c_1: ─────\n",
              "            \n",
              "  c_2: ─────\n",
              "            \n",
              "  c_3: ─────\n",
              "            \n",
              "  c_4: ─────\n",
              "            \n",
              "  g_0: ─────\n",
              "            \n",
              "  g_1: ─────\n",
              "            \n",
              "  g_2: ─────\n",
              "            \n",
              "  g_3: ─────\n",
              "            \n",
              "  p_0: ─────\n",
              "            \n",
              "  p_1: ─────\n",
              "            \n",
              "  p_2: ─────\n",
              "            \n",
              "  p_3: ─────\n",
              "            \n",
              "bfr_0: ─────\n",
              "            \n",
              "bfr_1: ─────\n",
              "            \n",
              "bfr_2: ─────\n",
              "            \n",
              "  s: 5/═════\n",
              "            "
            ]
          },
          "execution_count": 43,
          "metadata": {},
          "output_type": "execute_result"
        }
      ],
      "source": [
        "circuit.x(a[1])\n",
        "circuit.x(b[0])\n",
        "circuit.x(b[1])\n",
        "circuit.x(b[3])\n",
        "circuit.draw()"
      ]
    },
    {
      "cell_type": "code",
      "execution_count": null,
      "metadata": {
        "id": "N77QAgsSVp1m"
      },
      "outputs": [],
      "source": [
        "#implementing carry look ahead for each single qubit of the quantum register\n",
        "carry_Lookahead_Adder(circuit)"
      ]
    },
    {
      "cell_type": "code",
      "execution_count": null,
      "metadata": {
        "colab": {
          "base_uri": "https://localhost:8080/",
          "height": 514
        },
        "id": "TWXL9vRSVt3y",
        "outputId": "d3018b79-dd71-49de-f9db-b3b6f58195fb"
      },
      "outputs": [
        {
          "name": "stdout",
          "output_type": "stream",
          "text": [
            "{'01101': 10000}\n"
          ]
        },
        {
          "data": {
            "image/png": "[encoded data removed]",
            "text/plain": [
              "<Figure size 700x500 with 1 Axes>"
            ]
          },
          "execution_count": 45,
          "metadata": {},
          "output_type": "execute_result"
        }
      ],
      "source": [
        "simulator=Aer.get_backend('qasm_simulator')\n",
        "count=execute(circuit,backend=simulator,shots=10000).result().get_counts()\n",
        "print(count)\n",
        "from qiskit.visualization import plot_histogram\n",
        "plot_histogram(count)"
      ]
    },
    {
      "cell_type": "code",
      "execution_count": null,
      "metadata": {
        "colab": {
          "base_uri": "https://localhost:8080/"
        },
        "id": "s0C1_8iLGQsF",
        "outputId": "f2f86be1-78fa-4f1b-e9c4-b2ef15d71da2"
      },
      "outputs": [
        {
          "name": "stdout",
          "output_type": "stream",
          "text": [
            "Circuit depth=\n"
          ]
        },
        {
          "data": {
            "text/plain": [
              "9"
            ]
          },
          "execution_count": 46,
          "metadata": {},
          "output_type": "execute_result"
        }
      ],
      "source": [
        "print(\"Circuit depth=\")\n",
        "circuit.depth()"
      ]
    },
    {
      "cell_type": "code",
      "execution_count": null,
      "metadata": {
        "id": "RMoPc4NFVwFd"
      },
      "outputs": [],
      "source": [
        "circuit.clear()"
      ]
    },
    {
      "cell_type": "markdown",
      "metadata": {
        "id": "YEFflqi4dDQz"
      },
      "source": [
        "CASE 2-> a=|0001> b=|0011>"
      ]
    },
    {
      "cell_type": "code",
      "execution_count": null,
      "metadata": {
        "colab": {
          "base_uri": "https://localhost:8080/",
          "height": 802
        },
        "id": "SyN9NUVXVyT7",
        "outputId": "cf79ac27-bfcd-412c-d840-a428e988a3c1"
      },
      "outputs": [
        {
          "data": {
            "text/html": [
              "<pre style=\"word-wrap: normal;white-space: pre;background: #fff0;line-height: 1.1;font-family: &quot;Courier New&quot;,Courier,monospace\">       ┌───┐\n",
              "  a_0: ┤ X ├\n",
              "       └───┘\n",
              "  a_1: ─────\n",
              "            \n",
              "  a_2: ─────\n",
              "            \n",
              "  a_3: ─────\n",
              "       ┌───┐\n",
              "  b_0: ┤ X ├\n",
              "       ├───┤\n",
              "  b_1: ┤ X ├\n",
              "       └───┘\n",
              "  b_2: ─────\n",
              "            \n",
              "  b_3: ─────\n",
              "            \n",
              "  c_0: ─────\n",
              "            \n",
              "  c_1: ─────\n",
              "            \n",
              "  c_2: ─────\n",
              "            \n",
              "  c_3: ─────\n",
              "            \n",
              "  c_4: ─────\n",
              "            \n",
              "  g_0: ─────\n",
              "            \n",
              "  g_1: ─────\n",
              "            \n",
              "  g_2: ─────\n",
              "            \n",
              "  g_3: ─────\n",
              "            \n",
              "  p_0: ─────\n",
              "            \n",
              "  p_1: ─────\n",
              "            \n",
              "  p_2: ─────\n",
              "            \n",
              "  p_3: ─────\n",
              "            \n",
              "bfr_0: ─────\n",
              "            \n",
              "bfr_1: ─────\n",
              "            \n",
              "bfr_2: ─────\n",
              "            \n",
              "  s: 5/═════\n",
              "            </pre>"
            ],
            "text/plain": [
              "       ┌───┐\n",
              "  a_0: ┤ X ├\n",
              "       └───┘\n",
              "  a_1: ─────\n",
              "            \n",
              "  a_2: ─────\n",
              "            \n",
              "  a_3: ─────\n",
              "       ┌───┐\n",
              "  b_0: ┤ X ├\n",
              "       ├───┤\n",
              "  b_1: ┤ X ├\n",
              "       └───┘\n",
              "  b_2: ─────\n",
              "            \n",
              "  b_3: ─────\n",
              "            \n",
              "  c_0: ─────\n",
              "            \n",
              "  c_1: ─────\n",
              "            \n",
              "  c_2: ─────\n",
              "            \n",
              "  c_3: ─────\n",
              "            \n",
              "  c_4: ─────\n",
              "            \n",
              "  g_0: ─────\n",
              "            \n",
              "  g_1: ─────\n",
              "            \n",
              "  g_2: ─────\n",
              "            \n",
              "  g_3: ─────\n",
              "            \n",
              "  p_0: ─────\n",
              "            \n",
              "  p_1: ─────\n",
              "            \n",
              "  p_2: ─────\n",
              "            \n",
              "  p_3: ─────\n",
              "            \n",
              "bfr_0: ─────\n",
              "            \n",
              "bfr_1: ─────\n",
              "            \n",
              "bfr_2: ─────\n",
              "            \n",
              "  s: 5/═════\n",
              "            "
            ]
          },
          "execution_count": 48,
          "metadata": {},
          "output_type": "execute_result"
        }
      ],
      "source": [
        "circuit.x(a[0])\n",
        "circuit.x(b[0])\n",
        "circuit.x(b[1])\n",
        "circuit.draw()"
      ]
    },
    {
      "cell_type": "code",
      "execution_count": null,
      "metadata": {
        "id": "9WRpU4bQV0Rt"
      },
      "outputs": [],
      "source": [
        "#implementing carry look ahead adder for each single qubit of the quantum register\n",
        "carry_Lookahead_Adder(circuit)"
      ]
    },
    {
      "cell_type": "code",
      "execution_count": null,
      "metadata": {
        "colab": {
          "base_uri": "https://localhost:8080/",
          "height": 513
        },
        "id": "DySEkBY1V2k0",
        "outputId": "4a9d6615-82c4-4215-a27a-ca696d7f109c"
      },
      "outputs": [
        {
          "name": "stdout",
          "output_type": "stream",
          "text": [
            "{'00100': 10000}\n"
          ]
        },
        {
          "data": {
            "image/png": "[encoded data removed]",
            "text/plain": [
              "<Figure size 700x500 with 1 Axes>"
            ]
          },
          "execution_count": 50,
          "metadata": {},
          "output_type": "execute_result"
        }
      ],
      "source": [
        "simulator=Aer.get_backend('qasm_simulator')\n",
        "count=execute(circuit,backend=simulator,shots=10000).result().get_counts()\n",
        "print(count)\n",
        "from qiskit.visualization import plot_histogram\n",
        "plot_histogram(count)"
      ]
    },
    {
      "cell_type": "code",
      "execution_count": null,
      "metadata": {
        "colab": {
          "base_uri": "https://localhost:8080/"
        },
        "id": "9L9v_Q6DGTQZ",
        "outputId": "41d33731-f5cc-46a2-dffc-0d6fb0b44f7d"
      },
      "outputs": [
        {
          "name": "stdout",
          "output_type": "stream",
          "text": [
            "Circuit depth=\n"
          ]
        },
        {
          "data": {
            "text/plain": [
              "9"
            ]
          },
          "execution_count": 51,
          "metadata": {},
          "output_type": "execute_result"
        }
      ],
      "source": [
        "print(\"Circuit depth=\")\n",
        "circuit.depth()"
      ]
    },
    {
      "cell_type": "code",
      "execution_count": null,
      "metadata": {
        "id": "AzIVPhBvV4ai"
      },
      "outputs": [],
      "source": [
        "circuit.clear()"
      ]
    },
    {
      "cell_type": "markdown",
      "metadata": {
        "id": "R52GamDjcw5m"
      },
      "source": [
        "CASE 3-> a=(|0010>+|0100>)/sqrt(2) b=(|1011>+|0001>)/sqrt(2)"
      ]
    },
    {
      "cell_type": "code",
      "execution_count": null,
      "metadata": {
        "colab": {
          "base_uri": "https://localhost:8080/",
          "height": 802
        },
        "id": "AGbIxaNUxTH-",
        "outputId": "e0edcfb8-18d2-481a-b1c6-31d4a0123e66"
      },
      "outputs": [
        {
          "data": {
            "text/html": [
              "<pre style=\"word-wrap: normal;white-space: pre;background: #fff0;line-height: 1.1;font-family: &quot;Courier New&quot;,Courier,monospace\">       ┌──────────────────────────────────────────────────────────┐\n",
              "  a_0: ┤0                                                         ├\n",
              "       │                                                          │\n",
              "  a_1: ┤1                                                         ├\n",
              "       │  Initialize(0,0,0.70711,0,0.70711,0,0,0,0,0,0,0,0,0,0,0) │\n",
              "  a_2: ┤2                                                         ├\n",
              "       │                                                          │\n",
              "  a_3: ┤3                                                         ├\n",
              "       ├──────────────────────────────────────────────────────────┤\n",
              "  b_0: ┤0                                                         ├\n",
              "       │                                                          │\n",
              "  b_1: ┤1                                                         ├\n",
              "       │  Initialize(0,0.70711,0,0,0,0,0,0,0,0,0,0.70711,0,0,0,0) │\n",
              "  b_2: ┤2                                                         ├\n",
              "       │                                                          │\n",
              "  b_3: ┤3                                                         ├\n",
              "       └──────────────────────────────────────────────────────────┘\n",
              "  c_0: ────────────────────────────────────────────────────────────\n",
              "                                                                   \n",
              "  c_1: ────────────────────────────────────────────────────────────\n",
              "                                                                   \n",
              "  c_2: ────────────────────────────────────────────────────────────\n",
              "                                                                   \n",
              "  c_3: ────────────────────────────────────────────────────────────\n",
              "                                                                   \n",
              "  c_4: ────────────────────────────────────────────────────────────\n",
              "                                                                   \n",
              "  g_0: ────────────────────────────────────────────────────────────\n",
              "                                                                   \n",
              "  g_1: ────────────────────────────────────────────────────────────\n",
              "                                                                   \n",
              "  g_2: ────────────────────────────────────────────────────────────\n",
              "                                                                   \n",
              "  g_3: ────────────────────────────────────────────────────────────\n",
              "                                                                   \n",
              "  p_0: ────────────────────────────────────────────────────────────\n",
              "                                                                   \n",
              "  p_1: ────────────────────────────────────────────────────────────\n",
              "                                                                   \n",
              "  p_2: ────────────────────────────────────────────────────────────\n",
              "                                                                   \n",
              "  p_3: ────────────────────────────────────────────────────────────\n",
              "                                                                   \n",
              "bfr_0: ────────────────────────────────────────────────────────────\n",
              "                                                                   \n",
              "bfr_1: ────────────────────────────────────────────────────────────\n",
              "                                                                   \n",
              "bfr_2: ────────────────────────────────────────────────────────────\n",
              "                                                                   \n",
              "  s: 5/════════════════════════════════════════════════════════════\n",
              "                                                                   </pre>"
            ],
            "text/plain": [
              "       ┌──────────────────────────────────────────────────────────┐\n",
              "  a_0: ┤0                                                         ├\n",
              "       │                                                          │\n",
              "  a_1: ┤1                                                         ├\n",
              "       │  Initialize(0,0,0.70711,0,0.70711,0,0,0,0,0,0,0,0,0,0,0) │\n",
              "  a_2: ┤2                                                         ├\n",
              "       │                                                          │\n",
              "  a_3: ┤3                                                         ├\n",
              "       ├──────────────────────────────────────────────────────────┤\n",
              "  b_0: ┤0                                                         ├\n",
              "       │                                                          │\n",
              "  b_1: ┤1                                                         ├\n",
              "       │  Initialize(0,0.70711,0,0,0,0,0,0,0,0,0,0.70711,0,0,0,0) │\n",
              "  b_2: ┤2                                                         ├\n",
              "       │                                                          │\n",
              "  b_3: ┤3                                                         ├\n",
              "       └──────────────────────────────────────────────────────────┘\n",
              "  c_0: ────────────────────────────────────────────────────────────\n",
              "                                                                   \n",
              "  c_1: ────────────────────────────────────────────────────────────\n",
              "                                                                   \n",
              "  c_2: ────────────────────────────────────────────────────────────\n",
              "                                                                   \n",
              "  c_3: ────────────────────────────────────────────────────────────\n",
              "                                                                   \n",
              "  c_4: ────────────────────────────────────────────────────────────\n",
              "                                                                   \n",
              "  g_0: ────────────────────────────────────────────────────────────\n",
              "                                                                   \n",
              "  g_1: ────────────────────────────────────────────────────────────\n",
              "                                                                   \n",
              "  g_2: ────────────────────────────────────────────────────────────\n",
              "                                                                   \n",
              "  g_3: ────────────────────────────────────────────────────────────\n",
              "                                                                   \n",
              "  p_0: ────────────────────────────────────────────────────────────\n",
              "                                                                   \n",
              "  p_1: ────────────────────────────────────────────────────────────\n",
              "                                                                   \n",
              "  p_2: ────────────────────────────────────────────────────────────\n",
              "                                                                   \n",
              "  p_3: ────────────────────────────────────────────────────────────\n",
              "                                                                   \n",
              "bfr_0: ────────────────────────────────────────────────────────────\n",
              "                                                                   \n",
              "bfr_1: ────────────────────────────────────────────────────────────\n",
              "                                                                   \n",
              "bfr_2: ────────────────────────────────────────────────────────────\n",
              "                                                                   \n",
              "  s: 5/════════════════════════════════════════════════════════════\n",
              "                                                                   "
            ]
          },
          "execution_count": 53,
          "metadata": {},
          "output_type": "execute_result"
        }
      ],
      "source": [
        "import numpy as np\n",
        "from numpy import sqrt\n",
        "desired_state_a = np.array([0, 0, 1, 0, 1, 0, 0, 0,0,0,0,0,0,0,0,0]) /sqrt(2)\n",
        "circuit.initialize(desired_state_a, a)\n",
        "desired_state_b = np.array([0, 1, 0, 0, 0, 0, 0, 0,0,0,0,1,0,0,0,0]) /sqrt(2)\n",
        "circuit.initialize(desired_state_b, b)\n",
        "circuit.draw()\n"
      ]
    },
    {
      "cell_type": "code",
      "execution_count": null,
      "metadata": {
        "id": "2X-sV16gyBbt"
      },
      "outputs": [],
      "source": [
        "#implementing carry look ahead adder for each single qubit of the quantum register\n",
        "carry_Lookahead_Adder(circuit)\n",
        "\n"
      ]
    },
    {
      "cell_type": "code",
      "execution_count": null,
      "metadata": {
        "colab": {
          "background_save": true
        },
        "id": "tfWmGTPUyLg3",
        "outputId": "020608cb-464b-4d34-dffd-5c1f07e1f2be"
      },
      "outputs": [
        {
          "name": "stdout",
          "output_type": "stream",
          "text": [
            "{'00011': 257, '00101': 250, '01101': 244, '01111': 249}\n"
          ]
        },
        {
          "data": {
            "image/png": "[encoded data removed]",
            "text/plain": [
              "<Figure size 700x500 with 1 Axes>"
            ]
          },
          "execution_count": 55,
          "metadata": {},
          "output_type": "execute_result"
        }
      ],
      "source": [
        "from qiskit import *\n",
        "from qiskit.visualization import plot_histogram\n",
        "simulator=Aer.get_backend('qasm_simulator')\n",
        "count=execute(circuit,backend=simulator,shots=1000).result().get_counts()\n",
        "print(count)\n",
        "plot_histogram(count)"
      ]
    },
    {
      "cell_type": "code",
      "execution_count": null,
      "metadata": {
        "colab": {
          "background_save": true
        },
        "id": "CX4mjjmtGVIu",
        "outputId": "d3ec7fd9-83b7-4a58-8d4e-c4d488878079"
      },
      "outputs": [
        {
          "name": "stdout",
          "output_type": "stream",
          "text": [
            "Circuit depth=\n"
          ]
        },
        {
          "data": {
            "text/plain": [
              "9"
            ]
          },
          "execution_count": 56,
          "metadata": {},
          "output_type": "execute_result"
        }
      ],
      "source": [
        "print(\"Circuit depth=\")\n",
        "circuit.depth()"
      ]
    },
    {
      "cell_type": "code",
      "execution_count": null,
      "metadata": {
        "colab": {
          "background_save": true
        },
        "id": "7xF8EUNK0mgE"
      },
      "outputs": [],
      "source": [
        "circuit.clear()"
      ]
    },
    {
      "cell_type": "markdown",
      "metadata": {
        "id": "u5va-l6FcuE8"
      },
      "source": [
        "Case 4-> a=(|0000>+|0111>)/sqrt(2) b=(|0111>+|1000>)/sqrt(2)"
      ]
    },
    {
      "cell_type": "code",
      "execution_count": null,
      "metadata": {
        "colab": {
          "background_save": true
        },
        "id": "o_ZL0m3vV8aS",
        "outputId": "413d8001-da99-4548-f5ee-80852ec5037b"
      },
      "outputs": [
        {
          "data": {
            "text/html": [
              "<pre style=\"word-wrap: normal;white-space: pre;background: #fff0;line-height: 1.1;font-family: &quot;Courier New&quot;,Courier,monospace\">       ┌──────────────────────────────────────────────────────────┐\n",
              "  a_0: ┤0                                                         ├\n",
              "       │                                                          │\n",
              "  a_1: ┤1                                                         ├\n",
              "       │  Initialize(0.70711,0,0,0,0,0,0,0.70711,0,0,0,0,0,0,0,0) │\n",
              "  a_2: ┤2                                                         ├\n",
              "       │                                                          │\n",
              "  a_3: ┤3                                                         ├\n",
              "       ├──────────────────────────────────────────────────────────┤\n",
              "  b_0: ┤0                                                         ├\n",
              "       │                                                          │\n",
              "  b_1: ┤1                                                         ├\n",
              "       │  Initialize(0,0,0,0,0,0,0,0.70711,0.70711,0,0,0,0,0,0,0) │\n",
              "  b_2: ┤2                                                         ├\n",
              "       │                                                          │\n",
              "  b_3: ┤3                                                         ├\n",
              "       └──────────────────────────────────────────────────────────┘\n",
              "  c_0: ────────────────────────────────────────────────────────────\n",
              "                                                                   \n",
              "  c_1: ────────────────────────────────────────────────────────────\n",
              "                                                                   \n",
              "  c_2: ────────────────────────────────────────────────────────────\n",
              "                                                                   \n",
              "  c_3: ────────────────────────────────────────────────────────────\n",
              "                                                                   \n",
              "  c_4: ────────────────────────────────────────────────────────────\n",
              "                                                                   \n",
              "  g_0: ────────────────────────────────────────────────────────────\n",
              "                                                                   \n",
              "  g_1: ────────────────────────────────────────────────────────────\n",
              "                                                                   \n",
              "  g_2: ────────────────────────────────────────────────────────────\n",
              "                                                                   \n",
              "  g_3: ────────────────────────────────────────────────────────────\n",
              "                                                                   \n",
              "  p_0: ────────────────────────────────────────────────────────────\n",
              "                                                                   \n",
              "  p_1: ────────────────────────────────────────────────────────────\n",
              "                                                                   \n",
              "  p_2: ────────────────────────────────────────────────────────────\n",
              "                                                                   \n",
              "  p_3: ────────────────────────────────────────────────────────────\n",
              "                                                                   \n",
              "bfr_0: ────────────────────────────────────────────────────────────\n",
              "                                                                   \n",
              "bfr_1: ────────────────────────────────────────────────────────────\n",
              "                                                                   \n",
              "bfr_2: ────────────────────────────────────────────────────────────\n",
              "                                                                   \n",
              "  s: 5/════════════════════════════════════════════════════════════\n",
              "                                                                   </pre>"
            ],
            "text/plain": [
              "       ┌──────────────────────────────────────────────────────────┐\n",
              "  a_0: ┤0                                                         ├\n",
              "       │                                                          │\n",
              "  a_1: ┤1                                                         ├\n",
              "       │  Initialize(0.70711,0,0,0,0,0,0,0.70711,0,0,0,0,0,0,0,0) │\n",
              "  a_2: ┤2                                                         ├\n",
              "       │                                                          │\n",
              "  a_3: ┤3                                                         ├\n",
              "       ├──────────────────────────────────────────────────────────┤\n",
              "  b_0: ┤0                                                         ├\n",
              "       │                                                          │\n",
              "  b_1: ┤1                                                         ├\n",
              "       │  Initialize(0,0,0,0,0,0,0,0.70711,0.70711,0,0,0,0,0,0,0) │\n",
              "  b_2: ┤2                                                         ├\n",
              "       │                                                          │\n",
              "  b_3: ┤3                                                         ├\n",
              "       └──────────────────────────────────────────────────────────┘\n",
              "  c_0: ────────────────────────────────────────────────────────────\n",
              "                                                                   \n",
              "  c_1: ────────────────────────────────────────────────────────────\n",
              "                                                                   \n",
              "  c_2: ────────────────────────────────────────────────────────────\n",
              "                                                                   \n",
              "  c_3: ────────────────────────────────────────────────────────────\n",
              "                                                                   \n",
              "  c_4: ────────────────────────────────────────────────────────────\n",
              "                                                                   \n",
              "  g_0: ────────────────────────────────────────────────────────────\n",
              "                                                                   \n",
              "  g_1: ────────────────────────────────────────────────────────────\n",
              "                                                                   \n",
              "  g_2: ────────────────────────────────────────────────────────────\n",
              "                                                                   \n",
              "  g_3: ────────────────────────────────────────────────────────────\n",
              "                                                                   \n",
              "  p_0: ────────────────────────────────────────────────────────────\n",
              "                                                                   \n",
              "  p_1: ────────────────────────────────────────────────────────────\n",
              "                                                                   \n",
              "  p_2: ────────────────────────────────────────────────────────────\n",
              "                                                                   \n",
              "  p_3: ────────────────────────────────────────────────────────────\n",
              "                                                                   \n",
              "bfr_0: ────────────────────────────────────────────────────────────\n",
              "                                                                   \n",
              "bfr_1: ────────────────────────────────────────────────────────────\n",
              "                                                                   \n",
              "bfr_2: ────────────────────────────────────────────────────────────\n",
              "                                                                   \n",
              "  s: 5/════════════════════════════════════════════════════════════\n",
              "                                                                   "
            ]
          },
          "execution_count": 58,
          "metadata": {},
          "output_type": "execute_result"
        }
      ],
      "source": [
        "desired_state_a = np.array([1, 0, 0, 0, 0, 0, 0, 1,0,0,0,0,0,0,0,0]) /sqrt(2)\n",
        "circuit.initialize(desired_state_a, a)\n",
        "desired_state_b = np.array([0, 0, 0, 0, 0, 0, 0, 1,1,0,0,0,0,0,0,0]) /sqrt(2)\n",
        "circuit.initialize(desired_state_b, b)\n",
        "circuit.draw()"
      ]
    },
    {
      "cell_type": "code",
      "execution_count": null,
      "metadata": {
        "colab": {
          "background_save": true
        },
        "id": "4kDdFPtnWEYc"
      },
      "outputs": [],
      "source": [
        "#implementing carry look ahead adder for each single qubit of the quantum register\n",
        "carry_Lookahead_Adder(circuit)"
      ]
    },
    {
      "cell_type": "code",
      "execution_count": null,
      "metadata": {
        "colab": {
          "background_save": true
        },
        "id": "v-35oxOsWEpo",
        "outputId": "da5feb68-3925-477a-f10d-8c891dc6c69d"
      },
      "outputs": [
        {
          "name": "stdout",
          "output_type": "stream",
          "text": [
            "{'00111': 239, '01000': 245, '01111': 259, '01110': 257}\n"
          ]
        },
        {
          "data": {
            "image/png": "[encoded data removed]",
            "text/plain": [
              "<Figure size 700x500 with 1 Axes>"
            ]
          },
          "execution_count": 60,
          "metadata": {},
          "output_type": "execute_result"
        }
      ],
      "source": [
        "simulator=Aer.get_backend('qasm_simulator')\n",
        "count=execute(circuit,backend=simulator,shots=1000).result().get_counts()\n",
        "print(count)\n",
        "plot_histogram(count)"
      ]
    },
    {
      "cell_type": "code",
      "execution_count": null,
      "metadata": {
        "colab": {
          "background_save": true
        },
        "id": "-5903ZsFGXSf",
        "outputId": "7c1edcc4-7e55-4838-8aae-f5f5e94c8c15"
      },
      "outputs": [
        {
          "name": "stdout",
          "output_type": "stream",
          "text": [
            "Circuit depth=\n"
          ]
        },
        {
          "data": {
            "text/plain": [
              "9"
            ]
          },
          "execution_count": 61,
          "metadata": {},
          "output_type": "execute_result"
        }
      ],
      "source": [
        "print(\"Circuit depth=\")\n",
        "circuit.depth()"
      ]
    },
    {
      "cell_type": "markdown",
      "metadata": {
        "id": "bd6VeKC1L_KR"
      },
      "source": [
        "It can be seen clearly that in case of full adder the circuit depth is 18 whereas in case of carry look ahead adder circuit depth is 9"
      ]
    }
  ],
  "metadata": {
    "colab": {
      "provenance": []
    },
    "kernelspec": {
      "display_name": "Python 3",
      "name": "python3"
    },
    "language_info": {
      "name": "python"
    }
  },
  "nbformat": 4,
  "nbformat_minor": 0
}